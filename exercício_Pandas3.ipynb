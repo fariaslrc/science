{
  "cells": [
    {
      "cell_type": "markdown",
      "metadata": {
        "id": "view-in-github",
        "colab_type": "text"
      },
      "source": [
        "<a href=\"https://colab.research.google.com/github/fariaslrc/science/blob/main/exerc%C3%ADcio_Pandas3.ipynb\" target=\"_parent\"><img src=\"https://colab.research.google.com/assets/colab-badge.svg\" alt=\"Open In Colab\"/></a>"
      ]
    },
    {
      "cell_type": "markdown",
      "metadata": {
        "id": "S_mi1goifcw-"
      },
      "source": [
        "# Tarefa 03\n",
        "\n",
        "- Leia os enunciados com atenção\n",
        "- Saiba que pode haver mais de uma resposta correta\n",
        "- Insira novas células de código sempre que achar necessário\n",
        "- Em caso de dúvidas, procure os Tutores\n",
        "- Divirta-se :)"
      ]
    },
    {
      "cell_type": "code",
      "execution_count": null,
      "metadata": {
        "id": "vko1a8EAfcxB"
      },
      "outputs": [],
      "source": [
        "import pandas as pd\n",
        "import requests"
      ]
    },
    {
      "cell_type": "markdown",
      "metadata": {
        "id": "55Gr6hmwfcxC"
      },
      "source": [
        "####  1) Lendo de APIs\n",
        "Vimos em aula como carregar dados públicos do governo através de um API (*Application Programming Interface*). No exemplo de aula, baixamos os dados de pedidos de verificação de limites (PVL) realizados por estados, e selecionamos apenas aqueles referentes ao estado de São Paulo.\n",
        "\n",
        "1. Repita os mesmos passos feitos em aula, mas selecione os PVLs realizados por municípios no estado do Rio de Janeiro.\n",
        "2. Quais são os três *status* das solicitações mais frequentes na base? Quais são suas frequências?\n",
        "3. Construa uma nova variável que contenha o ano do **status**. Observe que ```data_status``` vem como tipo *object* no **DataFrame**. Dica: você pode usar o método ```.str``` para transformar o tipo da variável em string, em seguida um método como [**slice()**](https://pandas.pydata.org/docs/reference/api/pandas.Series.str.slice.html) ou [**split()**](https://pandas.pydata.org/pandas-docs/stable/reference/api/pandas.Series.str.split.html).\n",
        "4. Indique a frequência de cada ano do campo construído no item (3)."
      ]
    },
    {
      "cell_type": "code",
      "execution_count": null,
      "metadata": {
        "scrolled": true,
        "id": "MG49PydafcxC",
        "outputId": "3b03b89a-97e9-405f-b810-d921581c3c23"
      },
      "outputs": [
        {
          "data": {
            "text/html": [
              "<div>\n",
              "<style scoped>\n",
              "    .dataframe tbody tr th:only-of-type {\n",
              "        vertical-align: middle;\n",
              "    }\n",
              "\n",
              "    .dataframe tbody tr th {\n",
              "        vertical-align: top;\n",
              "    }\n",
              "\n",
              "    .dataframe thead th {\n",
              "        text-align: right;\n",
              "    }\n",
              "</style>\n",
              "<table border=\"1\" class=\"dataframe\">\n",
              "  <thead>\n",
              "    <tr style=\"text-align: right;\">\n",
              "      <th></th>\n",
              "      <th>id_pleito</th>\n",
              "      <th>tipo_interessado</th>\n",
              "      <th>interessado</th>\n",
              "      <th>cod_ibge</th>\n",
              "      <th>uf</th>\n",
              "      <th>num_pvl</th>\n",
              "      <th>status</th>\n",
              "      <th>num_processo</th>\n",
              "      <th>data_protocolo</th>\n",
              "      <th>tipo_operacao</th>\n",
              "      <th>finalidade</th>\n",
              "      <th>tipo_credor</th>\n",
              "      <th>credor</th>\n",
              "      <th>moeda</th>\n",
              "      <th>valor</th>\n",
              "      <th>pvl_assoc_divida</th>\n",
              "      <th>pvl_contradado_credor</th>\n",
              "      <th>data_status</th>\n",
              "    </tr>\n",
              "  </thead>\n",
              "  <tbody>\n",
              "    <tr>\n",
              "      <th>0</th>\n",
              "      <td>4924</td>\n",
              "      <td>Município</td>\n",
              "      <td>Rio de Janeiro</td>\n",
              "      <td>3304557</td>\n",
              "      <td>RJ</td>\n",
              "      <td>None</td>\n",
              "      <td>Arquivado</td>\n",
              "      <td>10951.000224/2000-63</td>\n",
              "      <td>2005-12-27T02:00:00Z</td>\n",
              "      <td>Operação contratual externa (com garantia da U...</td>\n",
              "      <td>Preservação e recuperação ambiental</td>\n",
              "      <td>Instituição Financeira Internacional</td>\n",
              "      <td>Japan Bank for International Cooperation</td>\n",
              "      <td>Iene</td>\n",
              "      <td>18362000.00</td>\n",
              "      <td>0</td>\n",
              "      <td>0</td>\n",
              "      <td>17/08/2006</td>\n",
              "    </tr>\n",
              "    <tr>\n",
              "      <th>1</th>\n",
              "      <td>5864</td>\n",
              "      <td>Município</td>\n",
              "      <td>Duas Barras</td>\n",
              "      <td>3301603</td>\n",
              "      <td>RJ</td>\n",
              "      <td>None</td>\n",
              "      <td>Arquivado</td>\n",
              "      <td>17944.000218/2008-72</td>\n",
              "      <td>2008-04-14T03:00:00Z</td>\n",
              "      <td>Operação contratual interna</td>\n",
              "      <td>Caminho da Escola</td>\n",
              "      <td>Instituição Financeira Nacional</td>\n",
              "      <td>Banco do Brasil S/A</td>\n",
              "      <td>Real</td>\n",
              "      <td>179900.00</td>\n",
              "      <td>0</td>\n",
              "      <td>0</td>\n",
              "      <td>06/05/2008</td>\n",
              "    </tr>\n",
              "    <tr>\n",
              "      <th>2</th>\n",
              "      <td>5328</td>\n",
              "      <td>Município</td>\n",
              "      <td>São João de Meriti</td>\n",
              "      <td>3305109</td>\n",
              "      <td>RJ</td>\n",
              "      <td>None</td>\n",
              "      <td>Arquivado</td>\n",
              "      <td>17944.000088/2007-97</td>\n",
              "      <td>2007-01-17T02:00:00Z</td>\n",
              "      <td>Operação contratual interna</td>\n",
              "      <td>Provias</td>\n",
              "      <td>Instituição Financeira Nacional</td>\n",
              "      <td>Banco do Brasil S/A</td>\n",
              "      <td>Real</td>\n",
              "      <td>1980000.00</td>\n",
              "      <td>0</td>\n",
              "      <td>0</td>\n",
              "      <td>28/05/2007</td>\n",
              "    </tr>\n",
              "    <tr>\n",
              "      <th>3</th>\n",
              "      <td>5843</td>\n",
              "      <td>Município</td>\n",
              "      <td>Maricá</td>\n",
              "      <td>3302700</td>\n",
              "      <td>RJ</td>\n",
              "      <td>None</td>\n",
              "      <td>Arquivado</td>\n",
              "      <td>17944.000212/2010-10</td>\n",
              "      <td>2010-11-30T02:00:00Z</td>\n",
              "      <td>Operação contratual interna</td>\n",
              "      <td>PAC - Pró-Moradia - 2009</td>\n",
              "      <td>Instituição Financeira Nacional</td>\n",
              "      <td>Caixa Econômica Federal</td>\n",
              "      <td>Real</td>\n",
              "      <td>51016091.98</td>\n",
              "      <td>0</td>\n",
              "      <td>0</td>\n",
              "      <td>28/12/2010</td>\n",
              "    </tr>\n",
              "    <tr>\n",
              "      <th>4</th>\n",
              "      <td>43898</td>\n",
              "      <td>Município</td>\n",
              "      <td>Pinheiral</td>\n",
              "      <td>3303955</td>\n",
              "      <td>RJ</td>\n",
              "      <td>PVL02.000209/2021-96</td>\n",
              "      <td>Deferido (PVL-IF)</td>\n",
              "      <td>None</td>\n",
              "      <td>None</td>\n",
              "      <td>Operação contratual interna</td>\n",
              "      <td>Aquisição de máquinas, equipamentos e veículos</td>\n",
              "      <td>Instituição Financeira Nacional</td>\n",
              "      <td>Banco do Brasil S/A</td>\n",
              "      <td>Real</td>\n",
              "      <td>2621825.00</td>\n",
              "      <td>0</td>\n",
              "      <td>1</td>\n",
              "      <td>26/07/2021</td>\n",
              "    </tr>\n",
              "    <tr>\n",
              "      <th>...</th>\n",
              "      <td>...</td>\n",
              "      <td>...</td>\n",
              "      <td>...</td>\n",
              "      <td>...</td>\n",
              "      <td>...</td>\n",
              "      <td>...</td>\n",
              "      <td>...</td>\n",
              "      <td>...</td>\n",
              "      <td>...</td>\n",
              "      <td>...</td>\n",
              "      <td>...</td>\n",
              "      <td>...</td>\n",
              "      <td>...</td>\n",
              "      <td>...</td>\n",
              "      <td>...</td>\n",
              "      <td>...</td>\n",
              "      <td>...</td>\n",
              "      <td>...</td>\n",
              "    </tr>\n",
              "    <tr>\n",
              "      <th>238</th>\n",
              "      <td>60129</td>\n",
              "      <td>Município</td>\n",
              "      <td>Petrópolis</td>\n",
              "      <td>3303906</td>\n",
              "      <td>RJ</td>\n",
              "      <td>PVL02.005941/2022-33</td>\n",
              "      <td>Deferido</td>\n",
              "      <td>17944.102383/2022-16</td>\n",
              "      <td>2022-06-21T13:15:44Z</td>\n",
              "      <td>Operação contratual interna</td>\n",
              "      <td>Infraestrutura</td>\n",
              "      <td>Instituição Financeira Nacional</td>\n",
              "      <td>Caixa Econômica Federal</td>\n",
              "      <td>Real</td>\n",
              "      <td>80000000.00</td>\n",
              "      <td>0</td>\n",
              "      <td>1</td>\n",
              "      <td>22/06/2022</td>\n",
              "    </tr>\n",
              "    <tr>\n",
              "      <th>239</th>\n",
              "      <td>6266</td>\n",
              "      <td>Município</td>\n",
              "      <td>Maricá</td>\n",
              "      <td>3302700</td>\n",
              "      <td>RJ</td>\n",
              "      <td>None</td>\n",
              "      <td>Regularizado</td>\n",
              "      <td>17944.000308/2010-88</td>\n",
              "      <td>2011-12-19T02:00:00Z</td>\n",
              "      <td>Operação contratual interna</td>\n",
              "      <td>Regularização de Dívida - Energia Elétrica</td>\n",
              "      <td>Empresa Não Estatal</td>\n",
              "      <td>Ampla Energia e Serviços S/A</td>\n",
              "      <td>Real</td>\n",
              "      <td>862347.63</td>\n",
              "      <td>0</td>\n",
              "      <td>0</td>\n",
              "      <td>20/01/2012</td>\n",
              "    </tr>\n",
              "    <tr>\n",
              "      <th>240</th>\n",
              "      <td>32212</td>\n",
              "      <td>Município</td>\n",
              "      <td>Miguel Pereira</td>\n",
              "      <td>3302908</td>\n",
              "      <td>RJ</td>\n",
              "      <td>PVL02.001363/2019-61</td>\n",
              "      <td>Deferido (PVL-IF)</td>\n",
              "      <td>None</td>\n",
              "      <td>None</td>\n",
              "      <td>Operação contratual interna</td>\n",
              "      <td>Aquisição de máquinas, equipamentos e veículos</td>\n",
              "      <td>Instituição Financeira Nacional</td>\n",
              "      <td>Agência de Fomento do Estado do Rio de Janeiro</td>\n",
              "      <td>Real</td>\n",
              "      <td>4500000.00</td>\n",
              "      <td>0</td>\n",
              "      <td>1</td>\n",
              "      <td>22/07/2019</td>\n",
              "    </tr>\n",
              "    <tr>\n",
              "      <th>241</th>\n",
              "      <td>63831</td>\n",
              "      <td>Município</td>\n",
              "      <td>Mesquita</td>\n",
              "      <td>3302858</td>\n",
              "      <td>RJ</td>\n",
              "      <td>PVL02.000044/2023-14</td>\n",
              "      <td>Deferido</td>\n",
              "      <td>17944.101173/2023-91</td>\n",
              "      <td>2023-03-30T14:02:21Z</td>\n",
              "      <td>Operação contratual interna</td>\n",
              "      <td>Infraestrutura</td>\n",
              "      <td>Instituição Financeira Nacional</td>\n",
              "      <td>Caixa Econômica Federal</td>\n",
              "      <td>Real</td>\n",
              "      <td>30000000.00</td>\n",
              "      <td>0</td>\n",
              "      <td>0</td>\n",
              "      <td>31/03/2023</td>\n",
              "    </tr>\n",
              "    <tr>\n",
              "      <th>242</th>\n",
              "      <td>11034</td>\n",
              "      <td>Município</td>\n",
              "      <td>Quatis</td>\n",
              "      <td>3304128</td>\n",
              "      <td>RJ</td>\n",
              "      <td>None</td>\n",
              "      <td>Arquivado</td>\n",
              "      <td>17944.001342/2009-36</td>\n",
              "      <td>2009-10-28T02:00:00Z</td>\n",
              "      <td>Operação contratual interna</td>\n",
              "      <td>Caminho da Escola</td>\n",
              "      <td>Instituição Financeira Nacional</td>\n",
              "      <td>Banco do Brasil S/A</td>\n",
              "      <td>Real</td>\n",
              "      <td>790600.00</td>\n",
              "      <td>0</td>\n",
              "      <td>0</td>\n",
              "      <td>21/12/2010</td>\n",
              "    </tr>\n",
              "  </tbody>\n",
              "</table>\n",
              "<p>243 rows × 18 columns</p>\n",
              "</div>"
            ],
            "text/plain": [
              "     id_pleito tipo_interessado         interessado  cod_ibge  uf  \\\n",
              "0         4924        Município      Rio de Janeiro   3304557  RJ   \n",
              "1         5864        Município         Duas Barras   3301603  RJ   \n",
              "2         5328        Município  São João de Meriti   3305109  RJ   \n",
              "3         5843        Município              Maricá   3302700  RJ   \n",
              "4        43898        Município           Pinheiral   3303955  RJ   \n",
              "..         ...              ...                 ...       ...  ..   \n",
              "238      60129        Município          Petrópolis   3303906  RJ   \n",
              "239       6266        Município              Maricá   3302700  RJ   \n",
              "240      32212        Município      Miguel Pereira   3302908  RJ   \n",
              "241      63831        Município            Mesquita   3302858  RJ   \n",
              "242      11034        Município              Quatis   3304128  RJ   \n",
              "\n",
              "                  num_pvl             status          num_processo  \\\n",
              "0                    None          Arquivado  10951.000224/2000-63   \n",
              "1                    None          Arquivado  17944.000218/2008-72   \n",
              "2                    None          Arquivado  17944.000088/2007-97   \n",
              "3                    None          Arquivado  17944.000212/2010-10   \n",
              "4    PVL02.000209/2021-96  Deferido (PVL-IF)                  None   \n",
              "..                    ...                ...                   ...   \n",
              "238  PVL02.005941/2022-33           Deferido  17944.102383/2022-16   \n",
              "239                  None       Regularizado  17944.000308/2010-88   \n",
              "240  PVL02.001363/2019-61  Deferido (PVL-IF)                  None   \n",
              "241  PVL02.000044/2023-14           Deferido  17944.101173/2023-91   \n",
              "242                  None          Arquivado  17944.001342/2009-36   \n",
              "\n",
              "           data_protocolo                                      tipo_operacao  \\\n",
              "0    2005-12-27T02:00:00Z  Operação contratual externa (com garantia da U...   \n",
              "1    2008-04-14T03:00:00Z                        Operação contratual interna   \n",
              "2    2007-01-17T02:00:00Z                        Operação contratual interna   \n",
              "3    2010-11-30T02:00:00Z                        Operação contratual interna   \n",
              "4                    None                        Operação contratual interna   \n",
              "..                    ...                                                ...   \n",
              "238  2022-06-21T13:15:44Z                        Operação contratual interna   \n",
              "239  2011-12-19T02:00:00Z                        Operação contratual interna   \n",
              "240                  None                        Operação contratual interna   \n",
              "241  2023-03-30T14:02:21Z                        Operação contratual interna   \n",
              "242  2009-10-28T02:00:00Z                        Operação contratual interna   \n",
              "\n",
              "                                         finalidade  \\\n",
              "0               Preservação e recuperação ambiental   \n",
              "1                                 Caminho da Escola   \n",
              "2                                           Provias   \n",
              "3                          PAC - Pró-Moradia - 2009   \n",
              "4    Aquisição de máquinas, equipamentos e veículos   \n",
              "..                                              ...   \n",
              "238                                  Infraestrutura   \n",
              "239      Regularização de Dívida - Energia Elétrica   \n",
              "240  Aquisição de máquinas, equipamentos e veículos   \n",
              "241                                  Infraestrutura   \n",
              "242                               Caminho da Escola   \n",
              "\n",
              "                              tipo_credor  \\\n",
              "0    Instituição Financeira Internacional   \n",
              "1         Instituição Financeira Nacional   \n",
              "2         Instituição Financeira Nacional   \n",
              "3         Instituição Financeira Nacional   \n",
              "4         Instituição Financeira Nacional   \n",
              "..                                    ...   \n",
              "238       Instituição Financeira Nacional   \n",
              "239                   Empresa Não Estatal   \n",
              "240       Instituição Financeira Nacional   \n",
              "241       Instituição Financeira Nacional   \n",
              "242       Instituição Financeira Nacional   \n",
              "\n",
              "                                             credor moeda        valor  \\\n",
              "0          Japan Bank for International Cooperation  Iene  18362000.00   \n",
              "1                               Banco do Brasil S/A  Real    179900.00   \n",
              "2                               Banco do Brasil S/A  Real   1980000.00   \n",
              "3                           Caixa Econômica Federal  Real  51016091.98   \n",
              "4                               Banco do Brasil S/A  Real   2621825.00   \n",
              "..                                              ...   ...          ...   \n",
              "238                         Caixa Econômica Federal  Real  80000000.00   \n",
              "239                    Ampla Energia e Serviços S/A  Real    862347.63   \n",
              "240  Agência de Fomento do Estado do Rio de Janeiro  Real   4500000.00   \n",
              "241                         Caixa Econômica Federal  Real  30000000.00   \n",
              "242                             Banco do Brasil S/A  Real    790600.00   \n",
              "\n",
              "     pvl_assoc_divida  pvl_contradado_credor data_status  \n",
              "0                   0                      0  17/08/2006  \n",
              "1                   0                      0  06/05/2008  \n",
              "2                   0                      0  28/05/2007  \n",
              "3                   0                      0  28/12/2010  \n",
              "4                   0                      1  26/07/2021  \n",
              "..                ...                    ...         ...  \n",
              "238                 0                      1  22/06/2022  \n",
              "239                 0                      0  20/01/2012  \n",
              "240                 0                      1  22/07/2019  \n",
              "241                 0                      0  31/03/2023  \n",
              "242                 0                      0  21/12/2010  \n",
              "\n",
              "[243 rows x 18 columns]"
            ]
          },
          "execution_count": 7,
          "metadata": {},
          "output_type": "execute_result"
        }
      ],
      "source": [
        "# 1) PVLs realizados por municípios no estado do Rio de Janeiro\n",
        "import pandas as pd\n",
        "import requests\n",
        "\n",
        "url = 'https://apidatalake.tesouro.gov.br/ords/sadipem/tt/pvl?uf=RJ&tipo_interessado=Munic%C3%ADpio'\n",
        "\n",
        "r = requests.get(url)\n",
        "\n",
        "data_json = r.json()\n",
        "\n",
        "df = pd.DataFrame(data_json['items'])\n",
        "\n",
        "df"
      ]
    },
    {
      "cell_type": "code",
      "execution_count": null,
      "metadata": {
        "id": "CGttdPeIfcxD",
        "outputId": "0ebb102f-8df1-4643-b113-2a26081b6557"
      },
      "outputs": [
        {
          "data": {
            "text/plain": [
              "Deferido        96\n",
              "Arquivado       53\n",
              "Regularizado    26\n",
              "Name: status, dtype: int64"
            ]
          },
          "execution_count": 15,
          "metadata": {},
          "output_type": "execute_result"
        }
      ],
      "source": [
        "# 2) Três status das solicitações mais frequentes na base? Quais são suas frequências?\n",
        "df['status'].value_counts().head(3)"
      ]
    },
    {
      "cell_type": "code",
      "execution_count": null,
      "metadata": {
        "id": "NPScaPD5fcxE",
        "outputId": "a6ee4cb5-5b9e-4676-d340-f630409d8552"
      },
      "outputs": [
        {
          "data": {
            "text/plain": [
              "0      2006\n",
              "1      2008\n",
              "2      2007\n",
              "3      2010\n",
              "4      2021\n",
              "       ... \n",
              "238    2022\n",
              "239    2012\n",
              "240    2019\n",
              "241    2023\n",
              "242    2010\n",
              "Name: ano_status, Length: 243, dtype: object"
            ]
          },
          "execution_count": 55,
          "metadata": {},
          "output_type": "execute_result"
        }
      ],
      "source": [
        "# 3) Construa uma nova variável que contenha o ano do status. Observe que data_status vem como\n",
        "# tipo object no DataFrame. Dica: você pode usar o método .str para transformar o tipo da variável em string,\n",
        "# em seguida um método como slice() ou split()\n",
        "\n",
        "df['ano_status'] = df['data_status'].str.slice(6)\n",
        "df['ano_status']"
      ]
    },
    {
      "cell_type": "code",
      "execution_count": null,
      "metadata": {
        "id": "XEANrznXfcxE",
        "outputId": "385aeebe-7923-468e-8f9c-66a6a6c979e1"
      },
      "outputs": [
        {
          "data": {
            "text/plain": [
              "<AxesSubplot:>"
            ]
          },
          "execution_count": 60,
          "metadata": {},
          "output_type": "execute_result"
        },
        {
          "data": {
            "image/png": "[encoded data removed]",
            "text/plain": [
              "<Figure size 432x288 with 1 Axes>"
            ]
          },
          "metadata": {
            "needs_background": "light"
          },
          "output_type": "display_data"
        }
      ],
      "source": [
        "# 4) Indique a frequência de cada ano do campo construído no item (3)\n",
        "df['ano_status'].value_counts().sort_index().plot(kind='bar')"
      ]
    },
    {
      "cell_type": "markdown",
      "metadata": {
        "id": "81T896PPfcxE"
      },
      "source": [
        "####  2) Melhorando a interação com o API\n",
        "Observe dois URLs de consultas diferentes, por exemplo o URL utilizado em aula, e o URL feito no exercício anterior. Compare-os e observe as diferenças.\n",
        "\n",
        "1. Faça uma função em Python que recebe como argumento o UF da consulta e o tipo de interessado (```'Estado'```ou ```Município```), e que devolve os dados da consulta no formato *DataFrame*.\n",
        "2. Quantas solicitações para o Estado podem ser consultadas para Minas Gerais com *status* em 'Arquivado por decurso de prazo' estão registradas?\n",
        "3. Qual é o município da Bahia com mais solicitações deferidas?\n",
        "4. Salve um arquivo .csv com os dados de solicitações da Bahia, com interessado = 'Estado'"
      ]
    },
    {
      "cell_type": "code",
      "execution_count": null,
      "metadata": {
        "id": "GKjJOA7CfcxE"
      },
      "outputs": [],
      "source": [
        "#1) Faça uma função em Python que recebe como argumento o UF da consulta e o tipo de interessado ('Estado'ou Município),\n",
        "# e que devolve os dados da consulta no formato DataFrame.\n",
        "import requests\n",
        "import pandas as pd\n",
        "\n",
        "def give_me_dataFrames(uf: str, tipo: str):\n",
        "    # garantir que o UF passado esteja em caixa alta\n",
        "    uf = uf.upper()\n",
        "\n",
        "    # verificar se a busca é por estado ou município\n",
        "    tipo_interessado = 'Estado' if tipo == 'Estado' else 'Munic%C3%ADpio'\n",
        "\n",
        "    # construir url usando uf e tipo\n",
        "    url = f'https://apidatalake.tesouro.gov.br/ords/sadipem/tt/pvl?uf={uf}&tipo_interessado={tipo_interessado}'\n",
        "\n",
        "    # requisitar url\n",
        "    r = requests.get(url)\n",
        "\n",
        "    # pegar json da url\n",
        "    data_json = r.json()\n",
        "\n",
        "    # converter json em dataframe\n",
        "    df = pd.DataFrame(data_json['items'])\n",
        "\n",
        "    # retornar dataframe\n",
        "    return df"
      ]
    },
    {
      "cell_type": "code",
      "execution_count": null,
      "metadata": {
        "id": "JcMZlrzxfcxF",
        "outputId": "68c34cd6-1dec-45fc-bcec-5c3a5d743809"
      },
      "outputs": [
        {
          "data": {
            "text/plain": [
              "1"
            ]
          },
          "execution_count": 72,
          "metadata": {},
          "output_type": "execute_result"
        }
      ],
      "source": [
        "# 2) Quantas solicitações para o Estado podem ser consultadas para Minas Gerais com status em\n",
        "# 'Arquivado por decurso de prazo' estão registradas?\n",
        "\n",
        "df = give_me_dataFrames('MG', 'Estado')\n",
        "solicitacoes_minas = df[df['status'] == 'Arquivado por decurso de prazo']\n",
        "quantidade_solicitacoes_minas = len(solicitacoes_minas)\n",
        "quantidade_solicitacoes_minas"
      ]
    },
    {
      "cell_type": "code",
      "execution_count": null,
      "metadata": {
        "id": "JRW53_UdfcxF",
        "outputId": "b4cf60bd-6233-41f7-e59c-d696705c7142"
      },
      "outputs": [
        {
          "data": {
            "text/plain": [
              "Luís Eduardo Magalhães    15\n",
              "Name: interessado, dtype: int64"
            ]
          },
          "execution_count": 79,
          "metadata": {},
          "output_type": "execute_result"
        }
      ],
      "source": [
        "# 3) Qual é o município da Bahia com mais solicitações deferidas?\n",
        "df = give_me_dataFrames('BA', 'Município')\n",
        "solicitacoes_deferidas_bahia = df[df['status'] == 'Deferido']\n",
        "municipio_mais_solicitacoes_deferidas = solicitacoes_deferidas_bahia['interessado'].value_counts().head(1)\n",
        "municipio_mais_solicitacoes_deferidas"
      ]
    },
    {
      "cell_type": "code",
      "execution_count": null,
      "metadata": {
        "id": "ZKtuzHknfcxF"
      },
      "outputs": [],
      "source": [
        "# 4) Salve um arquivo .csv com os dados de solicitações da Bahia, com interessado = 'Estado'\n",
        "df = give_me_dataFrames('BA', 'Estado')\n",
        "df.to_csv('solicitacoes_bahia.csv', index= False, sep=';')\n"
      ]
    }
  ],
  "metadata": {
    "kernelspec": {
      "display_name": "Python 3 (ipykernel)",
      "language": "python",
      "name": "python3"
    },
    "language_info": {
      "codemirror_mode": {
        "name": "ipython",
        "version": 3
      },
      "file_extension": ".py",
      "mimetype": "text/x-python",
      "name": "python",
      "nbconvert_exporter": "python",
      "pygments_lexer": "ipython3",
      "version": "3.9.7"
    },
    "colab": {
      "provenance": [],
      "include_colab_link": true
    }
  },
  "nbformat": 4,
  "nbformat_minor": 0
}