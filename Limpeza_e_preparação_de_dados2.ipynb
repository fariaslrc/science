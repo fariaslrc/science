{
  "cells": [
    {
      "cell_type": "markdown",
      "metadata": {
        "id": "view-in-github",
        "colab_type": "text"
      },
      "source": [
        "<a href=\"https://colab.research.google.com/github/fariaslrc/science/blob/main/Limpeza_e_prepara%C3%A7%C3%A3o_de_dados2.ipynb\" target=\"_parent\"><img src=\"https://colab.research.google.com/assets/colab-badge.svg\" alt=\"Open In Colab\"/></a>"
      ]
    },
    {
      "cell_type": "markdown",
      "metadata": {
        "id": "qj0bHDRk7W1k"
      },
      "source": [
        "# Tarefa 02 Módulo 05\n",
        "\n",
        "O nosso projeto desta sequência de módulos do curso será um aprofundamento da demonstração sobre classificação de risco de crédito que vimos lá no comecinho. Pois recebemos uma base já montada pra nós. Tenha certeza de que ela passou por um longo processamento até ficar daquele jeito. Neste exercício vamos exercitar o que aprendemos nas ultimas aulas e montar a variável resposta da base do nosso projeto.\n",
        "\n",
        "#### Marcação de bom e mau\n",
        "O objetivo da modelagem é classificar o risco de inadimplência, ou como se diz no meio, o risco de *default*. Podemos fazer longas discussões sobre o conceito de *default* com base em estudos e exigências regulatórias, para efeitos deste estudo, um cliente em *default* é aquele que está em 60 dias de atraso ou mais. Então classificaremos os clientes como 'bons' e 'maus' assim:\n",
        "- **Maus** pagadores: são aqueles que entraram em 'default' (atraso 60 dias ou mais) nos 24 meses seguintes à aquisição do cartão de crédito.\n",
        "- **Bons** pagadores: são considerados todos os demais.\n",
        "- **Excluídos**: Clientes que não adquiriram um cartão de crédito (seja por recusa, seja por desistência) não possuem informações de pagamento, portanto não se pode identificar se são bons ou maus. Há uma longa discussão e literatura sobre *inferência de rejeitados* que está fora do escopo deste exercício.\n",
        "\n",
        "#### Bases disponíveis\n",
        "Temos duas bases importantes aqui: uma de propostas, com diversas informações dos vários solicitantes de cartão de crédito, e uma base de pagamentos. A base de pagamentos será utilizada para identificar a ocorrência de *default*. A base de propostas tem diversas informações coletadas no momento da solicitação do crédito (isto é importante: qualquer informação posterior a essa data é impossível de ser coletada na aplicação do modelo e não pode ser utilizada).\n",
        "\n",
        "As variáveis delas são:\n",
        "\n",
        "Base de propostas - application_records.csv\n",
        "\n",
        "| Nome da Variável         | Description                                         | Tipo  |\n",
        "| ------------------------ |:---------------------------------------------------:| -----:|\n",
        "| ID| identificador do cliente (chave) |inteiro|\n",
        "| CODE_GENDER| M = 'Masculino'; F = 'Feminino' |M/F|\n",
        "| FLAG_OWN_CAR| Y = 'possui'; N = 'não possui' |Y/N|\n",
        "| FLAG_OWN_REALTY| Y = 'possui'; N = 'não possui' |Y/N|\n",
        "| CNT_CHILDREN| Quantidade de filhos |inteiro|\n",
        "| AMT_INCOME_TOTAL| Annual income |inteiro|\n",
        "| NAME_INCOME_TYPE|Tipo de renda (ex: assaliariado, autônomo etc) | texto |\n",
        "| NAME_EDUCATION_TYPE| Nível de educação (ex: secundário, superior etc) |texto|\n",
        "| NAME_FAMILY_STATUS | Estado civil (ex: solteiro, casado etc)| texto |\n",
        "| NAME_HOUSING_TYPE | tipo de residência (ex: casa/apartamento, com os pais etc) | texto |\n",
        "| DAYS_BIRTH | Count backwards from current day (0), -1 means yesterday |inteiro|\n",
        "| DAYS_EMPLOYED | Count backwards from current day (0), -1 means yesterday |inteiro|\n",
        "| FLAG_MOBIL | Indica se possui celular (1 = sim, 0 = não) |binária|\n",
        "| FLAG_WORK_PHONE | Indica se possui telefone comercial (1 = sim, 0 = não) |binária|\n",
        "| FLAG_PHONE | Indica se possui telefone (1 = sim, 0 = não) |binária|\n",
        "| FLAG_EMAIL | Indica se possui e-mail (1 = sim, 0 = não) |binária|\n",
        "| OCCUPATION_TYPE | Occupation\t |Qualitativa|\n",
        "| CNT_FAM_MEMBERS | quantidade de pessoas na residência |inteiro|\n",
        "\n",
        "Base de pagamentos - pagamentos_largo.csv  \n",
        "\n",
        "| Nome da Variável         | Description                                         | Tipo  |\n",
        "| ------------------------ |:---------------------------------------------------:| -----:|\n",
        "| ID| identificador do cliente (chave) |inteiro|\n",
        "| mes_00 a mes_24| faixa de atraso mês a mês do cliente <br>0: 1-29 days past due &nbsp;&nbsp;&nbsp;&nbsp; 1: 30-59 days past due <br />2: 60-89 days overdue &nbsp;&nbsp;&nbsp;&nbsp; 3: 90-119 days overdue <br /> 4: 120-149 days overdue &nbsp;&nbsp;&nbsp;&nbsp; 5: more than 150 days <br />C: paid off that month &nbsp;&nbsp;&nbsp;&nbsp; X: No loan for the month |Qualitativa|\n",
        "\n",
        "#### Construindo a variável resposta\n",
        "A base de pagamentos está em um formato de 'base larga'. Essa base possui informações de pagamentos do cliente mês a mês a partir do mês de aquisição do crédito (mês 0) até o vigésimo quarto mês após a aquisição do crédito (mês 24). Utilizaremos essa base para determinar se um proponente é considerado 'bom pagador' ou caso apresente atraso representativo, será considerado 'mau pagador'.\n",
        "\n",
        "#### Base larga vs base longa\n",
        "A base ser larga significa que há uma linha para cada cliente, e que as informações estarão nas colunas, em contraste com a 'base longa', em que haveria uma linha para cada combinação cliente/mês, uma coluna indicando o cliente, outra indicando o mês, e apenas uma coluna com a informação do atraso.\n",
        "\n",
        "#### Tarefa 1) Marcar *default* no mês\n",
        "Faça uma indicadora de se o cliente está em *default* em cada uma das marcações (mes_00 a mes_24). Dica: você pode utilizar o método ```.isin()``` do Pandas. Consulte a [documentação](https://pandas.pydata.org/pandas-docs/stable/reference/api/pandas.DataFrame.isin.html) caso necessário.\n",
        "\n",
        "#### Tarefa 2) 'bons' e 'maus' ao longo de todos os 24 meses de desempenho\n",
        "Marque para cada cliente se ele teve pelo menos um episódio de *default* entre o mês 0 e o mês 24. Dica: o método ```sum()``` pode ajudar. Caso precise, consulte a [documentação](https://pandas.pydata.org/docs/reference/api/pandas.DataFrame.sum.html) e procure pelo argumento ```axis```, você viu outros métodos que possuem esse argumento também. Tendo o número de meses em default de cada cliente, basta marcar ```True``` para todos aqueles que possuem pelo menos 1 mês em *default* e ```False``` para os demais.\n",
        "\n",
        "#### Tarefa 3) Marcando proponentes expostos ao risco de crédito\n",
        "Marcando proponentes que se tornaram tomadores: lembre-se de que clientes que não adquiriram o cartão devem ser desconsiderados. A base de pagamentos possui apenas clientes que adquiriram cartão de crédito, então você pode selecionar somente os clientes da base de propostas que se encontram na base de pagamentos.\n",
        "\n",
        "#### Tarefa 4) Consolidando as informações\n",
        "Faça uma junção das informações da base de propostas com a variável de *default* que você acabou de construir. Talvez você consiga realizar a tarefa 3 e tarefa 4 em uma única linha de código ;)\n",
        "\n",
        "#### Tarefa 5) Verificando\n",
        "Faça uma contagem dos valores do *default* que você construiu."
      ]
    },
    {
      "cell_type": "code",
      "execution_count": 1,
      "metadata": {
        "colab": {
          "base_uri": "https://localhost:8080/"
        },
        "id": "JRWOPPwk7W1r",
        "outputId": "322fe7ff-08b7-4fd6-bdf2-da7fb85076ff"
      },
      "outputs": [
        {
          "output_type": "stream",
          "name": "stdout",
          "text": [
            "Mounted at /content/drive\n"
          ]
        }
      ],
      "source": [
        "import pandas as pd\n",
        "from google.colab import drive\n",
        "\n",
        "drive.mount('/content/drive')"
      ]
    },
    {
      "cell_type": "code",
      "execution_count": 60,
      "metadata": {
        "id": "Zz9VOPpH7W1s"
      },
      "outputs": [],
      "source": [
        "# propostas = pd.read_csv('application_record.csv')\n",
        "# pg = pd.read_csv('pagamentos_largo.csv')\n",
        "\n",
        "propostas = pd.read_csv('/content/drive/MyDrive/Profissão Cientista de Dados/Cientista de Dados/Módulo 5 - Limpeza e preparação de dados/Tarefa2/application_record.csv')\n",
        "pg = pd.read_csv('/content/drive/MyDrive/Profissão Cientista de Dados/Cientista de Dados/Módulo 5 - Limpeza e preparação de dados/Tarefa2/pagamentos_largo.csv')"
      ]
    },
    {
      "cell_type": "code",
      "execution_count": 61,
      "metadata": {
        "id": "Do1vMEeJ7W1u"
      },
      "outputs": [],
      "source": [
        "# 1) Faça uma indicadora de se o cliente está em default em cada uma das marcações (mes_00 a mes_24)\n",
        "default_categories = ['2', '3', '4', '5']\n",
        "pg.replace(default_categories, 'D', inplace=True)"
      ]
    },
    {
      "cell_type": "code",
      "source": [
        "# 2) Marque para cada cliente se ele teve pelo menos um episódio de default entre o mês 0 e o mês 24\n",
        "default_categories = ['D']\n",
        "pg['default'] = pg.isin(default_categories).any(axis=1)\n",
        "pg['default'].value_counts()"
      ],
      "metadata": {
        "colab": {
          "base_uri": "https://localhost:8080/"
        },
        "id": "sAjvek30Xfw9",
        "outputId": "2019ba9d-4b25-4713-83ae-2f3af09e40b7"
      },
      "execution_count": 62,
      "outputs": [
        {
          "output_type": "execute_result",
          "data": {
            "text/plain": [
              "False    20506\n",
              "True       431\n",
              "Name: default, dtype: int64"
            ]
          },
          "metadata": {},
          "execution_count": 62
        }
      ]
    },
    {
      "cell_type": "code",
      "execution_count": 68,
      "metadata": {
        "colab": {
          "base_uri": "https://localhost:8080/"
        },
        "id": "wxBNSbgz7W1x",
        "outputId": "26df2a4c-acb0-4b52-db57-cac016aa1495"
      },
      "outputs": [
        {
          "output_type": "execute_result",
          "data": {
            "text/plain": [
              "(20937, 19)"
            ]
          },
          "metadata": {},
          "execution_count": 68
        }
      ],
      "source": [
        "# 3) Marcando apenas os proponentes expostos ao risco de crédito (que possuem cartão de crédito)\n",
        "# 4) Junção das informações da base de propostas com a variável de default\n",
        "df = propostas.merge(pg[['ID','default']], on='ID',how='right')\n",
        "#df = df.dropna()\n",
        "df.shape"
      ]
    },
    {
      "cell_type": "code",
      "source": [
        "# 5) contagem dos valores do default\n",
        "df['default'].value_counts()"
      ],
      "metadata": {
        "colab": {
          "base_uri": "https://localhost:8080/"
        },
        "id": "wgGbCOTxYyqO",
        "outputId": "9c2a2aab-fef2-488e-e8c7-93d01381f0b6"
      },
      "execution_count": 69,
      "outputs": [
        {
          "output_type": "execute_result",
          "data": {
            "text/plain": [
              "False    20506\n",
              "True       431\n",
              "Name: default, dtype: int64"
            ]
          },
          "metadata": {},
          "execution_count": 69
        }
      ]
    }
  ],
  "metadata": {
    "kernelspec": {
      "display_name": "Python 3",
      "language": "python",
      "name": "python3"
    },
    "language_info": {
      "codemirror_mode": {
        "name": "ipython",
        "version": 3
      },
      "file_extension": ".py",
      "mimetype": "text/x-python",
      "name": "python",
      "nbconvert_exporter": "python",
      "pygments_lexer": "ipython3",
      "version": "3.8.5"
    },
    "colab": {
      "provenance": [],
      "include_colab_link": true
    }
  },
  "nbformat": 4,
  "nbformat_minor": 0
}