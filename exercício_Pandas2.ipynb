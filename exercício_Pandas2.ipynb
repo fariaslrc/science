{
  "cells": [
    {
      "cell_type": "markdown",
      "metadata": {
        "id": "view-in-github",
        "colab_type": "text"
      },
      "source": [
        "<a href=\"https://colab.research.google.com/github/fariaslrc/science/blob/main/exerc%C3%ADcio_Pandas2.ipynb\" target=\"_parent\"><img src=\"https://colab.research.google.com/assets/colab-badge.svg\" alt=\"Open In Colab\"/></a>"
      ]
    },
    {
      "cell_type": "markdown",
      "metadata": {
        "id": "ecoYfX-Ntqrn"
      },
      "source": [
        "## Exercício 1: Vestibular\n",
        "\n",
        "Considere que a os dados gerados na célula abaixo contêm o número de acertos de 100 alunos em um vestibular para um curso de exatas, divididas pelos respectivos assuntos. Considere que cada assunto possui um número de questões conforme a tabela abaixo:\n",
        "\n",
        "| assunto | número de questões |\n",
        "|:---:|:---:|\n",
        "| Matemática | 24 |\n",
        "| Português | 18 |\n",
        "| Geografia | 8 |\n",
        "| Inglês | 8 |\n",
        "| História | 8 |\n",
        "| Física | 12 |\n",
        "| Química | 12 |\n",
        "\n",
        "Usando os comandos de operações com DataFrames que você aprendeu na Aula 03, calcule:\n",
        "\n",
        "1. (operações com escalar) Calcule o percentual de acerto dos alunos por assunto.\n",
        "2. (operações entre *DataFrames) Calcule o total de acertos de cada aluno.\n",
        "3. Calcule o porcentual geral de cada aluno.\n",
        "4. Suponha que a nota de corte para a segunda fase seja 45. Quantos alunos tiveram nota maior que 45?"
      ]
    },
    {
      "cell_type": "code",
      "execution_count": null,
      "metadata": {
        "id": "v0ZvZEKhtqrs"
      },
      "outputs": [],
      "source": [
        "import pandas as pd\n",
        "import numpy as np\n",
        "\n",
        "np.random.seed(42)\n",
        "df_mat = pd.DataFrame(np.random.randint(24, size=(100, 1)), columns=['Qt_acertos'])\n",
        "\n",
        "df_por = pd.DataFrame(np.random.randint(18, size=(100, 1)), columns=['Qt_acertos'])\n",
        "\n",
        "df_geo = pd.DataFrame(np.random.randint(8, size=(100, 1)), columns=['Qt_acertos'])\n",
        "\n",
        "df_ing = pd.DataFrame(np.random.randint(8, size=(100, 1)), columns=['Qt_acertos'])\n",
        "\n",
        "df_his = pd.DataFrame(np.random.randint(8, size=(100, 1)), columns=['Qt_acertos'])\n",
        "\n",
        "df_fis = pd.DataFrame(np.random.randint(12, size=(100, 1)), columns=['Qt_acertos'])\n",
        "\n",
        "df_qui = pd.DataFrame(np.random.randint(12, size=(100, 1)), columns=['Qt_acertos'])"
      ]
    },
    {
      "cell_type": "code",
      "execution_count": null,
      "metadata": {
        "id": "4H5UQP9Ntqrw"
      },
      "outputs": [],
      "source": [
        "# 1) Seu código aqui\n",
        "\n",
        "pc_mat = df_mat / 24\n",
        "pc_por = df_por / 18\n",
        "pc_geo = df_geo /  8\n",
        "pc_ing = df_ing /  8\n",
        "pc_his = df_his /  8\n",
        "pc_fis = df_fis /  8\n",
        "pc_qui = df_qui /  8"
      ]
    },
    {
      "cell_type": "code",
      "execution_count": null,
      "metadata": {
        "colab": {
          "base_uri": "https://localhost:8080/",
          "height": 423
        },
        "id": "CNd9_tG2tqrz",
        "outputId": "c4a820d9-fdaa-4002-c7bd-2dc330f8c060"
      },
      "outputs": [
        {
          "data": {
            "text/html": [
              "<div>\n",
              "<style scoped>\n",
              "    .dataframe tbody tr th:only-of-type {\n",
              "        vertical-align: middle;\n",
              "    }\n",
              "\n",
              "    .dataframe tbody tr th {\n",
              "        vertical-align: top;\n",
              "    }\n",
              "\n",
              "    .dataframe thead th {\n",
              "        text-align: right;\n",
              "    }\n",
              "</style>\n",
              "<table border=\"1\" class=\"dataframe\">\n",
              "  <thead>\n",
              "    <tr style=\"text-align: right;\">\n",
              "      <th></th>\n",
              "      <th>Qt_acertos</th>\n",
              "    </tr>\n",
              "  </thead>\n",
              "  <tbody>\n",
              "    <tr>\n",
              "      <th>0</th>\n",
              "      <td>35</td>\n",
              "    </tr>\n",
              "    <tr>\n",
              "      <th>1</th>\n",
              "      <td>48</td>\n",
              "    </tr>\n",
              "    <tr>\n",
              "      <th>2</th>\n",
              "      <td>50</td>\n",
              "    </tr>\n",
              "    <tr>\n",
              "      <th>3</th>\n",
              "      <td>32</td>\n",
              "    </tr>\n",
              "    <tr>\n",
              "      <th>4</th>\n",
              "      <td>30</td>\n",
              "    </tr>\n",
              "    <tr>\n",
              "      <th>...</th>\n",
              "      <td>...</td>\n",
              "    </tr>\n",
              "    <tr>\n",
              "      <th>95</th>\n",
              "      <td>34</td>\n",
              "    </tr>\n",
              "    <tr>\n",
              "      <th>96</th>\n",
              "      <td>27</td>\n",
              "    </tr>\n",
              "    <tr>\n",
              "      <th>97</th>\n",
              "      <td>40</td>\n",
              "    </tr>\n",
              "    <tr>\n",
              "      <th>98</th>\n",
              "      <td>40</td>\n",
              "    </tr>\n",
              "    <tr>\n",
              "      <th>99</th>\n",
              "      <td>42</td>\n",
              "    </tr>\n",
              "  </tbody>\n",
              "</table>\n",
              "<p>100 rows × 1 columns</p>\n",
              "</div>"
            ],
            "text/plain": [
              "    Qt_acertos\n",
              "0           35\n",
              "1           48\n",
              "2           50\n",
              "3           32\n",
              "4           30\n",
              "..         ...\n",
              "95          34\n",
              "96          27\n",
              "97          40\n",
              "98          40\n",
              "99          42\n",
              "\n",
              "[100 rows x 1 columns]"
            ]
          },
          "execution_count": 28,
          "metadata": {},
          "output_type": "execute_result"
        }
      ],
      "source": [
        "# 2) Seu código aqui\n",
        "total = df_mat + df_por + df_geo + df_ing + df_his + df_fis + df_qui\n",
        "total"
      ]
    },
    {
      "cell_type": "code",
      "execution_count": null,
      "metadata": {
        "colab": {
          "base_uri": "https://localhost:8080/",
          "height": 423
        },
        "id": "GhSGiuW4tqr2",
        "outputId": "ec50e8c8-0c27-4a88-a282-1ec1d00c2b39"
      },
      "outputs": [
        {
          "data": {
            "text/html": [
              "<div>\n",
              "<style scoped>\n",
              "    .dataframe tbody tr th:only-of-type {\n",
              "        vertical-align: middle;\n",
              "    }\n",
              "\n",
              "    .dataframe tbody tr th {\n",
              "        vertical-align: top;\n",
              "    }\n",
              "\n",
              "    .dataframe thead th {\n",
              "        text-align: right;\n",
              "    }\n",
              "</style>\n",
              "<table border=\"1\" class=\"dataframe\">\n",
              "  <thead>\n",
              "    <tr style=\"text-align: right;\">\n",
              "      <th></th>\n",
              "      <th>Qt_acertos</th>\n",
              "    </tr>\n",
              "  </thead>\n",
              "  <tbody>\n",
              "    <tr>\n",
              "      <th>0</th>\n",
              "      <td>0.388889</td>\n",
              "    </tr>\n",
              "    <tr>\n",
              "      <th>1</th>\n",
              "      <td>0.533333</td>\n",
              "    </tr>\n",
              "    <tr>\n",
              "      <th>2</th>\n",
              "      <td>0.555556</td>\n",
              "    </tr>\n",
              "    <tr>\n",
              "      <th>3</th>\n",
              "      <td>0.355556</td>\n",
              "    </tr>\n",
              "    <tr>\n",
              "      <th>4</th>\n",
              "      <td>0.333333</td>\n",
              "    </tr>\n",
              "    <tr>\n",
              "      <th>...</th>\n",
              "      <td>...</td>\n",
              "    </tr>\n",
              "    <tr>\n",
              "      <th>95</th>\n",
              "      <td>0.377778</td>\n",
              "    </tr>\n",
              "    <tr>\n",
              "      <th>96</th>\n",
              "      <td>0.300000</td>\n",
              "    </tr>\n",
              "    <tr>\n",
              "      <th>97</th>\n",
              "      <td>0.444444</td>\n",
              "    </tr>\n",
              "    <tr>\n",
              "      <th>98</th>\n",
              "      <td>0.444444</td>\n",
              "    </tr>\n",
              "    <tr>\n",
              "      <th>99</th>\n",
              "      <td>0.466667</td>\n",
              "    </tr>\n",
              "  </tbody>\n",
              "</table>\n",
              "<p>100 rows × 1 columns</p>\n",
              "</div>"
            ],
            "text/plain": [
              "    Qt_acertos\n",
              "0     0.388889\n",
              "1     0.533333\n",
              "2     0.555556\n",
              "3     0.355556\n",
              "4     0.333333\n",
              "..         ...\n",
              "95    0.377778\n",
              "96    0.300000\n",
              "97    0.444444\n",
              "98    0.444444\n",
              "99    0.466667\n",
              "\n",
              "[100 rows x 1 columns]"
            ]
          },
          "execution_count": 29,
          "metadata": {},
          "output_type": "execute_result"
        }
      ],
      "source": [
        "# 3) Seu código aqui\n",
        "total/90"
      ]
    },
    {
      "cell_type": "code",
      "execution_count": null,
      "metadata": {
        "colab": {
          "base_uri": "https://localhost:8080/"
        },
        "id": "bJs3YUbitqr3",
        "outputId": "df0bb72f-b361-4b96-cdd6-c0c8fef3374d"
      },
      "outputs": [
        {
          "data": {
            "text/plain": [
              "Qt_acertos    31\n",
              "dtype: int64"
            ]
          },
          "execution_count": 30,
          "metadata": {},
          "output_type": "execute_result"
        }
      ],
      "source": [
        "# 4) Seu código aqui\n",
        "total_gt_45 = total[total['Qt_acertos'] > 45]\n",
        "total_gt_45.count()"
      ]
    },
    {
      "cell_type": "markdown",
      "metadata": {
        "id": "w7E13duvtqr3"
      },
      "source": [
        "## 2) Vestibular II\n",
        "\n",
        "Ainda sobre o mesmo banco de dados:\n",
        "\n",
        "1. Neste vestibular, quem 'zera' em matemática, física ou química está desqualificado. Monte um novo *DataFrame* com os alunos desqualificados por este critério.\n",
        "2. Quantos são esses alunos?\n",
        "3. Qual a média desses alunos em história e geografia?\n",
        "4. Monte um *DataFrame* com os alunos que passaram para a segunda fase. Repare que estes alunos não podem ter sido desqualificados."
      ]
    },
    {
      "cell_type": "code",
      "execution_count": null,
      "metadata": {
        "colab": {
          "base_uri": "https://localhost:8080/",
          "height": 770
        },
        "id": "Ei5rFD9atqr4",
        "outputId": "5468df59-4191-4e35-b165-ac112b58fc97"
      },
      "outputs": [
        {
          "data": {
            "text/html": [
              "<div>\n",
              "<style scoped>\n",
              "    .dataframe tbody tr th:only-of-type {\n",
              "        vertical-align: middle;\n",
              "    }\n",
              "\n",
              "    .dataframe tbody tr th {\n",
              "        vertical-align: top;\n",
              "    }\n",
              "\n",
              "    .dataframe thead th {\n",
              "        text-align: right;\n",
              "    }\n",
              "</style>\n",
              "<table border=\"1\" class=\"dataframe\">\n",
              "  <thead>\n",
              "    <tr style=\"text-align: right;\">\n",
              "      <th></th>\n",
              "      <th>Qt_acertos</th>\n",
              "    </tr>\n",
              "  </thead>\n",
              "  <tbody>\n",
              "    <tr>\n",
              "      <th>3</th>\n",
              "      <td>32</td>\n",
              "    </tr>\n",
              "    <tr>\n",
              "      <th>6</th>\n",
              "      <td>29</td>\n",
              "    </tr>\n",
              "    <tr>\n",
              "      <th>10</th>\n",
              "      <td>31</td>\n",
              "    </tr>\n",
              "    <tr>\n",
              "      <th>12</th>\n",
              "      <td>42</td>\n",
              "    </tr>\n",
              "    <tr>\n",
              "      <th>14</th>\n",
              "      <td>31</td>\n",
              "    </tr>\n",
              "    <tr>\n",
              "      <th>20</th>\n",
              "      <td>53</td>\n",
              "    </tr>\n",
              "    <tr>\n",
              "      <th>25</th>\n",
              "      <td>27</td>\n",
              "    </tr>\n",
              "    <tr>\n",
              "      <th>26</th>\n",
              "      <td>40</td>\n",
              "    </tr>\n",
              "    <tr>\n",
              "      <th>27</th>\n",
              "      <td>50</td>\n",
              "    </tr>\n",
              "    <tr>\n",
              "      <th>33</th>\n",
              "      <td>39</td>\n",
              "    </tr>\n",
              "    <tr>\n",
              "      <th>35</th>\n",
              "      <td>48</td>\n",
              "    </tr>\n",
              "    <tr>\n",
              "      <th>49</th>\n",
              "      <td>19</td>\n",
              "    </tr>\n",
              "    <tr>\n",
              "      <th>56</th>\n",
              "      <td>39</td>\n",
              "    </tr>\n",
              "    <tr>\n",
              "      <th>65</th>\n",
              "      <td>24</td>\n",
              "    </tr>\n",
              "    <tr>\n",
              "      <th>66</th>\n",
              "      <td>31</td>\n",
              "    </tr>\n",
              "    <tr>\n",
              "      <th>72</th>\n",
              "      <td>50</td>\n",
              "    </tr>\n",
              "    <tr>\n",
              "      <th>73</th>\n",
              "      <td>37</td>\n",
              "    </tr>\n",
              "    <tr>\n",
              "      <th>74</th>\n",
              "      <td>39</td>\n",
              "    </tr>\n",
              "    <tr>\n",
              "      <th>84</th>\n",
              "      <td>26</td>\n",
              "    </tr>\n",
              "    <tr>\n",
              "      <th>89</th>\n",
              "      <td>63</td>\n",
              "    </tr>\n",
              "    <tr>\n",
              "      <th>92</th>\n",
              "      <td>40</td>\n",
              "    </tr>\n",
              "    <tr>\n",
              "      <th>94</th>\n",
              "      <td>25</td>\n",
              "    </tr>\n",
              "    <tr>\n",
              "      <th>98</th>\n",
              "      <td>40</td>\n",
              "    </tr>\n",
              "  </tbody>\n",
              "</table>\n",
              "</div>"
            ],
            "text/plain": [
              "    Qt_acertos\n",
              "3           32\n",
              "6           29\n",
              "10          31\n",
              "12          42\n",
              "14          31\n",
              "20          53\n",
              "25          27\n",
              "26          40\n",
              "27          50\n",
              "33          39\n",
              "35          48\n",
              "49          19\n",
              "56          39\n",
              "65          24\n",
              "66          31\n",
              "72          50\n",
              "73          37\n",
              "74          39\n",
              "84          26\n",
              "89          63\n",
              "92          40\n",
              "94          25\n",
              "98          40"
            ]
          },
          "execution_count": 31,
          "metadata": {},
          "output_type": "execute_result"
        }
      ],
      "source": [
        "# Neste vestibular, quem 'zera' em matemática, física ou química está desqualificado. Monte um novo DataFrame com os alunos desqualificados por este critério.\n",
        "df_eliminados = total[(df_mat['Qt_acertos'] == 0) |\n",
        "                      (df_fis['Qt_acertos'] == 0) |\n",
        "                      (df_qui['Qt_acertos'] == 0)]\n",
        "\n",
        "df_eliminados"
      ]
    },
    {
      "cell_type": "code",
      "execution_count": null,
      "metadata": {
        "colab": {
          "base_uri": "https://localhost:8080/"
        },
        "id": "9ASb6ssat01c",
        "outputId": "05c37590-ecd2-4808-b986-aaa15a6c8400"
      },
      "outputs": [
        {
          "data": {
            "text/plain": [
              "Qt_acertos    23\n",
              "dtype: int64"
            ]
          },
          "execution_count": 32,
          "metadata": {},
          "output_type": "execute_result"
        }
      ],
      "source": [
        "# Quantos são esses alunos?\n",
        "\n",
        "df_eliminados.count()"
      ]
    },
    {
      "cell_type": "code",
      "execution_count": null,
      "metadata": {
        "colab": {
          "base_uri": "https://localhost:8080/",
          "height": 770
        },
        "id": "7LdFkWsmt04J",
        "outputId": "4f165150-a120-4d09-eda0-02fd0dbdf519"
      },
      "outputs": [
        {
          "data": {
            "text/html": [
              "<div>\n",
              "<style scoped>\n",
              "    .dataframe tbody tr th:only-of-type {\n",
              "        vertical-align: middle;\n",
              "    }\n",
              "\n",
              "    .dataframe tbody tr th {\n",
              "        vertical-align: top;\n",
              "    }\n",
              "\n",
              "    .dataframe thead th {\n",
              "        text-align: right;\n",
              "    }\n",
              "</style>\n",
              "<table border=\"1\" class=\"dataframe\">\n",
              "  <thead>\n",
              "    <tr style=\"text-align: right;\">\n",
              "      <th></th>\n",
              "      <th>Qt_acertos</th>\n",
              "      <th>Qt_acertos</th>\n",
              "    </tr>\n",
              "  </thead>\n",
              "  <tbody>\n",
              "    <tr>\n",
              "      <th>3</th>\n",
              "      <td>0.000</td>\n",
              "      <td>0.375</td>\n",
              "    </tr>\n",
              "    <tr>\n",
              "      <th>6</th>\n",
              "      <td>0.625</td>\n",
              "      <td>0.875</td>\n",
              "    </tr>\n",
              "    <tr>\n",
              "      <th>10</th>\n",
              "      <td>0.125</td>\n",
              "      <td>0.375</td>\n",
              "    </tr>\n",
              "    <tr>\n",
              "      <th>12</th>\n",
              "      <td>0.125</td>\n",
              "      <td>0.375</td>\n",
              "    </tr>\n",
              "    <tr>\n",
              "      <th>14</th>\n",
              "      <td>0.125</td>\n",
              "      <td>0.125</td>\n",
              "    </tr>\n",
              "    <tr>\n",
              "      <th>20</th>\n",
              "      <td>0.750</td>\n",
              "      <td>0.750</td>\n",
              "    </tr>\n",
              "    <tr>\n",
              "      <th>25</th>\n",
              "      <td>0.000</td>\n",
              "      <td>0.875</td>\n",
              "    </tr>\n",
              "    <tr>\n",
              "      <th>26</th>\n",
              "      <td>0.875</td>\n",
              "      <td>0.750</td>\n",
              "    </tr>\n",
              "    <tr>\n",
              "      <th>27</th>\n",
              "      <td>0.875</td>\n",
              "      <td>0.125</td>\n",
              "    </tr>\n",
              "    <tr>\n",
              "      <th>33</th>\n",
              "      <td>0.750</td>\n",
              "      <td>0.000</td>\n",
              "    </tr>\n",
              "    <tr>\n",
              "      <th>35</th>\n",
              "      <td>0.375</td>\n",
              "      <td>0.750</td>\n",
              "    </tr>\n",
              "    <tr>\n",
              "      <th>49</th>\n",
              "      <td>0.125</td>\n",
              "      <td>0.125</td>\n",
              "    </tr>\n",
              "    <tr>\n",
              "      <th>56</th>\n",
              "      <td>0.750</td>\n",
              "      <td>0.875</td>\n",
              "    </tr>\n",
              "    <tr>\n",
              "      <th>65</th>\n",
              "      <td>0.375</td>\n",
              "      <td>0.250</td>\n",
              "    </tr>\n",
              "    <tr>\n",
              "      <th>66</th>\n",
              "      <td>0.375</td>\n",
              "      <td>0.375</td>\n",
              "    </tr>\n",
              "    <tr>\n",
              "      <th>72</th>\n",
              "      <td>0.875</td>\n",
              "      <td>0.375</td>\n",
              "    </tr>\n",
              "    <tr>\n",
              "      <th>73</th>\n",
              "      <td>0.375</td>\n",
              "      <td>0.250</td>\n",
              "    </tr>\n",
              "    <tr>\n",
              "      <th>74</th>\n",
              "      <td>0.625</td>\n",
              "      <td>0.000</td>\n",
              "    </tr>\n",
              "    <tr>\n",
              "      <th>84</th>\n",
              "      <td>0.125</td>\n",
              "      <td>0.000</td>\n",
              "    </tr>\n",
              "    <tr>\n",
              "      <th>89</th>\n",
              "      <td>0.750</td>\n",
              "      <td>0.875</td>\n",
              "    </tr>\n",
              "    <tr>\n",
              "      <th>92</th>\n",
              "      <td>0.125</td>\n",
              "      <td>0.125</td>\n",
              "    </tr>\n",
              "    <tr>\n",
              "      <th>94</th>\n",
              "      <td>0.125</td>\n",
              "      <td>0.250</td>\n",
              "    </tr>\n",
              "    <tr>\n",
              "      <th>98</th>\n",
              "      <td>0.625</td>\n",
              "      <td>0.375</td>\n",
              "    </tr>\n",
              "  </tbody>\n",
              "</table>\n",
              "</div>"
            ],
            "text/plain": [
              "    Qt_acertos  Qt_acertos\n",
              "3        0.000       0.375\n",
              "6        0.625       0.875\n",
              "10       0.125       0.375\n",
              "12       0.125       0.375\n",
              "14       0.125       0.125\n",
              "20       0.750       0.750\n",
              "25       0.000       0.875\n",
              "26       0.875       0.750\n",
              "27       0.875       0.125\n",
              "33       0.750       0.000\n",
              "35       0.375       0.750\n",
              "49       0.125       0.125\n",
              "56       0.750       0.875\n",
              "65       0.375       0.250\n",
              "66       0.375       0.375\n",
              "72       0.875       0.375\n",
              "73       0.375       0.250\n",
              "74       0.625       0.000\n",
              "84       0.125       0.000\n",
              "89       0.750       0.875\n",
              "92       0.125       0.125\n",
              "94       0.125       0.250\n",
              "98       0.625       0.375"
            ]
          },
          "execution_count": 33,
          "metadata": {},
          "output_type": "execute_result"
        }
      ],
      "source": [
        "# Qual a média desses alunos em história e geografia?\n",
        "\n",
        "# concatenando os dataframes de história e geografia\n",
        "todos_alunos = pd.concat([df_his, df_geo], axis=1)\n",
        "\n",
        "# calculando a média de todos os alunos\n",
        "todos_alunos = todos_alunos/8\n",
        "\n",
        "# exibindo apenas os alunos que foram desqualificados\n",
        "todos_alunos.iloc[df_eliminados.index]"
      ]
    },
    {
      "cell_type": "code",
      "execution_count": null,
      "metadata": {
        "colab": {
          "base_uri": "https://localhost:8080/",
          "height": 959
        },
        "id": "zp7m8UH2t09z",
        "outputId": "9b4a6a54-d386-40b6-e821-fb2f6ddd995b"
      },
      "outputs": [
        {
          "data": {
            "text/html": [
              "<div>\n",
              "<style scoped>\n",
              "    .dataframe tbody tr th:only-of-type {\n",
              "        vertical-align: middle;\n",
              "    }\n",
              "\n",
              "    .dataframe tbody tr th {\n",
              "        vertical-align: top;\n",
              "    }\n",
              "\n",
              "    .dataframe thead th {\n",
              "        text-align: right;\n",
              "    }\n",
              "</style>\n",
              "<table border=\"1\" class=\"dataframe\">\n",
              "  <thead>\n",
              "    <tr style=\"text-align: right;\">\n",
              "      <th></th>\n",
              "      <th>Qt_acertos</th>\n",
              "    </tr>\n",
              "  </thead>\n",
              "  <tbody>\n",
              "    <tr>\n",
              "      <th>1</th>\n",
              "      <td>48</td>\n",
              "    </tr>\n",
              "    <tr>\n",
              "      <th>2</th>\n",
              "      <td>50</td>\n",
              "    </tr>\n",
              "    <tr>\n",
              "      <th>5</th>\n",
              "      <td>50</td>\n",
              "    </tr>\n",
              "    <tr>\n",
              "      <th>7</th>\n",
              "      <td>49</td>\n",
              "    </tr>\n",
              "    <tr>\n",
              "      <th>8</th>\n",
              "      <td>58</td>\n",
              "    </tr>\n",
              "    <tr>\n",
              "      <th>17</th>\n",
              "      <td>52</td>\n",
              "    </tr>\n",
              "    <tr>\n",
              "      <th>18</th>\n",
              "      <td>50</td>\n",
              "    </tr>\n",
              "    <tr>\n",
              "      <th>24</th>\n",
              "      <td>50</td>\n",
              "    </tr>\n",
              "    <tr>\n",
              "      <th>31</th>\n",
              "      <td>54</td>\n",
              "    </tr>\n",
              "    <tr>\n",
              "      <th>34</th>\n",
              "      <td>45</td>\n",
              "    </tr>\n",
              "    <tr>\n",
              "      <th>36</th>\n",
              "      <td>56</td>\n",
              "    </tr>\n",
              "    <tr>\n",
              "      <th>37</th>\n",
              "      <td>52</td>\n",
              "    </tr>\n",
              "    <tr>\n",
              "      <th>39</th>\n",
              "      <td>49</td>\n",
              "    </tr>\n",
              "    <tr>\n",
              "      <th>40</th>\n",
              "      <td>47</td>\n",
              "    </tr>\n",
              "    <tr>\n",
              "      <th>42</th>\n",
              "      <td>48</td>\n",
              "    </tr>\n",
              "    <tr>\n",
              "      <th>45</th>\n",
              "      <td>48</td>\n",
              "    </tr>\n",
              "    <tr>\n",
              "      <th>48</th>\n",
              "      <td>55</td>\n",
              "    </tr>\n",
              "    <tr>\n",
              "      <th>53</th>\n",
              "      <td>45</td>\n",
              "    </tr>\n",
              "    <tr>\n",
              "      <th>60</th>\n",
              "      <td>48</td>\n",
              "    </tr>\n",
              "    <tr>\n",
              "      <th>62</th>\n",
              "      <td>46</td>\n",
              "    </tr>\n",
              "    <tr>\n",
              "      <th>67</th>\n",
              "      <td>46</td>\n",
              "    </tr>\n",
              "    <tr>\n",
              "      <th>70</th>\n",
              "      <td>62</td>\n",
              "    </tr>\n",
              "    <tr>\n",
              "      <th>71</th>\n",
              "      <td>53</td>\n",
              "    </tr>\n",
              "    <tr>\n",
              "      <th>77</th>\n",
              "      <td>53</td>\n",
              "    </tr>\n",
              "    <tr>\n",
              "      <th>78</th>\n",
              "      <td>66</td>\n",
              "    </tr>\n",
              "    <tr>\n",
              "      <th>80</th>\n",
              "      <td>45</td>\n",
              "    </tr>\n",
              "    <tr>\n",
              "      <th>81</th>\n",
              "      <td>55</td>\n",
              "    </tr>\n",
              "    <tr>\n",
              "      <th>88</th>\n",
              "      <td>50</td>\n",
              "    </tr>\n",
              "    <tr>\n",
              "      <th>93</th>\n",
              "      <td>56</td>\n",
              "    </tr>\n",
              "  </tbody>\n",
              "</table>\n",
              "</div>"
            ],
            "text/plain": [
              "    Qt_acertos\n",
              "1           48\n",
              "2           50\n",
              "5           50\n",
              "7           49\n",
              "8           58\n",
              "17          52\n",
              "18          50\n",
              "24          50\n",
              "31          54\n",
              "34          45\n",
              "36          56\n",
              "37          52\n",
              "39          49\n",
              "40          47\n",
              "42          48\n",
              "45          48\n",
              "48          55\n",
              "53          45\n",
              "60          48\n",
              "62          46\n",
              "67          46\n",
              "70          62\n",
              "71          53\n",
              "77          53\n",
              "78          66\n",
              "80          45\n",
              "81          55\n",
              "88          50\n",
              "93          56"
            ]
          },
          "execution_count": 34,
          "metadata": {},
          "output_type": "execute_result"
        }
      ],
      "source": [
        "# Monte um DataFrame com os alunos que passaram para a segunda fase. Repare que estes alunos não podem ter sido desqualificados.\n",
        "# df_segunda_fase = df_total_acertos[~df_total_acertos.index.isin(df_desqualificados.index)]\n",
        "\n",
        "segunda_fase = total.loc[~((df_mat['Qt_acertos'] == 0) |\n",
        "                          (df_fis['Qt_acertos'] == 0) |\n",
        "                          (df_qui['Qt_acertos'] == 0) |\n",
        "                          (total['Qt_acertos'] < 45))]\n",
        "segunda_fase"
      ]
    },
    {
      "cell_type": "markdown",
      "metadata": {
        "id": "BaHbU0xhtqr5"
      },
      "source": [
        "## 3) Vacinações no Acre\n",
        "Vamos trabalhar agora com a base de vacinações no Acre. Para facilitar a sua vida, copiamos o link do arquivo na célula abaixo.\n",
        "\n",
        "1. Quantas vacinas estão registradas nessa base?\n",
        "2. Quantos pacientes foram vacinados? (considere um paciente para cada valor único de ```paciente_id```)\n",
        "3. Quantos pacientes únicos tomaram a primeira dose? OBS: Há um caractere especial neste campo. Receba os valores do campo com o método ```.unique()```.\n",
        "4. Quantos pacientes com menos de 18 anos foram vacinados?\n",
        "5. Quantos estabelecimentos aplicaram vacina no Acre?\n",
        "\n",
        "\n",
        "**OBS:** O portal do DATASUS pode apresentar instabilidades, retornando um erro na segunda célula abaixo. Por este motivo está disponível uma base estática, que se for baixada para o seu *working directory* pode ser lida com este comando: ```df = pd.read_csv('registros de vacinacao covid ACRE.csv', sep=';')```.\n",
        "\n",
        "**OBS2:** Para saber qual é o seu working directory, rode no jupyter: ```!pwd```."
      ]
    },
    {
      "cell_type": "code",
      "execution_count": null,
      "metadata": {
        "id": "t-54LFzXtqr6"
      },
      "outputs": [],
      "source": [
        "arquivo = 'https://s3.sa-east-1.amazonaws.com/ckan.saude.gov.br/SIPNI/COVID/uf/uf%3DAC/part-00000-acb0c48e-c6f1-43b1-b5a7-17e6c25050ce.c000.csv'"
      ]
    },
    {
      "cell_type": "code",
      "execution_count": null,
      "metadata": {
        "id": "2SVL8gmqtqr7"
      },
      "outputs": [],
      "source": [
        "# 1) Sua solução aqui\n",
        "# df = pd.read_csv(arquivo, sep=';')\n",
        "df = pd.read_csv('registros de vacinacao covid ACRE.csv', sep=';')"
      ]
    },
    {
      "cell_type": "code",
      "execution_count": null,
      "metadata": {
        "id": "VBIM0J7-tqr8",
        "outputId": "be129519-5a95-4fe8-f8fb-fb65dc1d0002"
      },
      "outputs": [
        {
          "data": {
            "text/html": [
              "<div>\n",
              "<style scoped>\n",
              "    .dataframe tbody tr th:only-of-type {\n",
              "        vertical-align: middle;\n",
              "    }\n",
              "\n",
              "    .dataframe tbody tr th {\n",
              "        vertical-align: top;\n",
              "    }\n",
              "\n",
              "    .dataframe thead th {\n",
              "        text-align: right;\n",
              "    }\n",
              "</style>\n",
              "<table border=\"1\" class=\"dataframe\">\n",
              "  <thead>\n",
              "    <tr style=\"text-align: right;\">\n",
              "      <th></th>\n",
              "      <th>document_id</th>\n",
              "      <th>paciente_id</th>\n",
              "      <th>paciente_idade</th>\n",
              "      <th>paciente_datanascimento</th>\n",
              "      <th>paciente_enumsexobiologico</th>\n",
              "      <th>paciente_racacor_codigo</th>\n",
              "      <th>paciente_racacor_valor</th>\n",
              "      <th>paciente_endereco_coibgemunicipio</th>\n",
              "      <th>paciente_endereco_copais</th>\n",
              "      <th>paciente_endereco_nmmunicipio</th>\n",
              "      <th>...</th>\n",
              "      <th>vacina_lote</th>\n",
              "      <th>vacina_fabricante_nome</th>\n",
              "      <th>vacina_fabricante_referencia</th>\n",
              "      <th>vacina_dataaplicacao</th>\n",
              "      <th>vacina_descricao_dose</th>\n",
              "      <th>vacina_codigo</th>\n",
              "      <th>vacina_nome</th>\n",
              "      <th>sistema_origem</th>\n",
              "      <th>data_importacao_rnds</th>\n",
              "      <th>id_sistema_origem</th>\n",
              "    </tr>\n",
              "  </thead>\n",
              "  <tbody>\n",
              "    <tr>\n",
              "      <th>0</th>\n",
              "      <td>b19cd280-474c-4c22-a35d-8c06bc04a4e0-i0b0</td>\n",
              "      <td>2e091c9a37d3f50d1d705fc80c6448c6fc69b44da9e936...</td>\n",
              "      <td>69</td>\n",
              "      <td>1951-12-28</td>\n",
              "      <td>F</td>\n",
              "      <td>3</td>\n",
              "      <td>PARDA</td>\n",
              "      <td>120050.0</td>\n",
              "      <td>10.0</td>\n",
              "      <td>SENA MADUREIRA</td>\n",
              "      <td>...</td>\n",
              "      <td>210052A</td>\n",
              "      <td>FUNDACAO BUTANTAN</td>\n",
              "      <td>Organization/61189445000156</td>\n",
              "      <td>2021-03-23</td>\n",
              "      <td>1ª Dose</td>\n",
              "      <td>86</td>\n",
              "      <td>Covid-19-Coronavac-Sinovac/Butantan</td>\n",
              "      <td>Novo PNI</td>\n",
              "      <td>2021-03-25T03:27:19.000Z</td>\n",
              "      <td>NaN</td>\n",
              "    </tr>\n",
              "    <tr>\n",
              "      <th>1</th>\n",
              "      <td>a1acc0b6-1cf6-4c4b-adcb-06b473a0faaf-i0b0</td>\n",
              "      <td>f4e17a9e5354cb45e223d85eda02fb2f76048c801675f5...</td>\n",
              "      <td>81</td>\n",
              "      <td>1939-11-22</td>\n",
              "      <td>M</td>\n",
              "      <td>3</td>\n",
              "      <td>PARDA</td>\n",
              "      <td>120040.0</td>\n",
              "      <td>10.0</td>\n",
              "      <td>RIO BRANCO</td>\n",
              "      <td>...</td>\n",
              "      <td>210110</td>\n",
              "      <td>FUNDACAO BUTANTAN</td>\n",
              "      <td>Organization/61189445000156</td>\n",
              "      <td>2021-04-29</td>\n",
              "      <td>2ª Dose</td>\n",
              "      <td>86</td>\n",
              "      <td>Covid-19-Coronavac-Sinovac/Butantan</td>\n",
              "      <td>Novo PNI</td>\n",
              "      <td>2021-04-30T16:03:14.000Z</td>\n",
              "      <td>NaN</td>\n",
              "    </tr>\n",
              "    <tr>\n",
              "      <th>2</th>\n",
              "      <td>af279a98-ba1f-47ea-8214-314a98040b0d-i0b0</td>\n",
              "      <td>6734b26bccf826130ebffa66575977bbe71477b12bcf42...</td>\n",
              "      <td>69</td>\n",
              "      <td>1951-08-14</td>\n",
              "      <td>M</td>\n",
              "      <td>4</td>\n",
              "      <td>AMARELA</td>\n",
              "      <td>120020.0</td>\n",
              "      <td>10.0</td>\n",
              "      <td>CRUZEIRO DO SUL</td>\n",
              "      <td>...</td>\n",
              "      <td>210135</td>\n",
              "      <td>FUNDACAO BUTANTAN</td>\n",
              "      <td>Organization/61189445000156</td>\n",
              "      <td>2021-04-16</td>\n",
              "      <td>1ª Dose</td>\n",
              "      <td>86</td>\n",
              "      <td>Covid-19-Coronavac-Sinovac/Butantan</td>\n",
              "      <td>Novo PNI</td>\n",
              "      <td>2021-04-16T15:54:39.000Z</td>\n",
              "      <td>NaN</td>\n",
              "    </tr>\n",
              "    <tr>\n",
              "      <th>3</th>\n",
              "      <td>4879308e-5050-46bb-b8e2-11fa5646a05c-i0b0</td>\n",
              "      <td>84a341fd350c1ba7117fccbb4d2df417bc0fac0fffac37...</td>\n",
              "      <td>51</td>\n",
              "      <td>1969-12-15</td>\n",
              "      <td>F</td>\n",
              "      <td>3</td>\n",
              "      <td>PARDA</td>\n",
              "      <td>120040.0</td>\n",
              "      <td>10.0</td>\n",
              "      <td>RIO BRANCO</td>\n",
              "      <td>...</td>\n",
              "      <td>202010040</td>\n",
              "      <td>FUNDACAO BUTANTAN</td>\n",
              "      <td>Organization/61189445000156</td>\n",
              "      <td>2021-02-19</td>\n",
              "      <td>2ª Dose</td>\n",
              "      <td>86</td>\n",
              "      <td>Covid-19-Coronavac-Sinovac/Butantan</td>\n",
              "      <td>Novo PNI</td>\n",
              "      <td>2021-03-10T14:40:54.000Z</td>\n",
              "      <td>NaN</td>\n",
              "    </tr>\n",
              "    <tr>\n",
              "      <th>4</th>\n",
              "      <td>000e911b-e3a4-4114-a735-d1f2e6e3797f-i0b0</td>\n",
              "      <td>c59571e19f368d4b0cf08cd3bcabb32e5cd8baad5340f6...</td>\n",
              "      <td>65</td>\n",
              "      <td>1955-11-21</td>\n",
              "      <td>M</td>\n",
              "      <td>3</td>\n",
              "      <td>PARDA</td>\n",
              "      <td>120040.0</td>\n",
              "      <td>10.0</td>\n",
              "      <td>RIO BRANCO</td>\n",
              "      <td>...</td>\n",
              "      <td>212VCD001ZVB</td>\n",
              "      <td>FUNDACAO OSWALDO CRUZ</td>\n",
              "      <td>Organization/33781055000135</td>\n",
              "      <td>2021-03-29</td>\n",
              "      <td>1ª Dose</td>\n",
              "      <td>85</td>\n",
              "      <td>Vacina Covid-19 - Covishield</td>\n",
              "      <td>Novo PNI</td>\n",
              "      <td>2021-04-03T19:44:28.000Z</td>\n",
              "      <td>NaN</td>\n",
              "    </tr>\n",
              "  </tbody>\n",
              "</table>\n",
              "<p>5 rows × 34 columns</p>\n",
              "</div>"
            ],
            "text/plain": [
              "                                 document_id  \\\n",
              "0  b19cd280-474c-4c22-a35d-8c06bc04a4e0-i0b0   \n",
              "1  a1acc0b6-1cf6-4c4b-adcb-06b473a0faaf-i0b0   \n",
              "2  af279a98-ba1f-47ea-8214-314a98040b0d-i0b0   \n",
              "3  4879308e-5050-46bb-b8e2-11fa5646a05c-i0b0   \n",
              "4  000e911b-e3a4-4114-a735-d1f2e6e3797f-i0b0   \n",
              "\n",
              "                                         paciente_id  paciente_idade  \\\n",
              "0  2e091c9a37d3f50d1d705fc80c6448c6fc69b44da9e936...              69   \n",
              "1  f4e17a9e5354cb45e223d85eda02fb2f76048c801675f5...              81   \n",
              "2  6734b26bccf826130ebffa66575977bbe71477b12bcf42...              69   \n",
              "3  84a341fd350c1ba7117fccbb4d2df417bc0fac0fffac37...              51   \n",
              "4  c59571e19f368d4b0cf08cd3bcabb32e5cd8baad5340f6...              65   \n",
              "\n",
              "  paciente_datanascimento paciente_enumsexobiologico  paciente_racacor_codigo  \\\n",
              "0              1951-12-28                          F                        3   \n",
              "1              1939-11-22                          M                        3   \n",
              "2              1951-08-14                          M                        4   \n",
              "3              1969-12-15                          F                        3   \n",
              "4              1955-11-21                          M                        3   \n",
              "\n",
              "  paciente_racacor_valor  paciente_endereco_coibgemunicipio  \\\n",
              "0                  PARDA                           120050.0   \n",
              "1                  PARDA                           120040.0   \n",
              "2                AMARELA                           120020.0   \n",
              "3                  PARDA                           120040.0   \n",
              "4                  PARDA                           120040.0   \n",
              "\n",
              "   paciente_endereco_copais paciente_endereco_nmmunicipio  ...   vacina_lote  \\\n",
              "0                      10.0                SENA MADUREIRA  ...       210052A   \n",
              "1                      10.0                    RIO BRANCO  ...        210110   \n",
              "2                      10.0               CRUZEIRO DO SUL  ...        210135   \n",
              "3                      10.0                    RIO BRANCO  ...     202010040   \n",
              "4                      10.0                    RIO BRANCO  ...  212VCD001ZVB   \n",
              "\n",
              "  vacina_fabricante_nome  vacina_fabricante_referencia vacina_dataaplicacao  \\\n",
              "0      FUNDACAO BUTANTAN   Organization/61189445000156           2021-03-23   \n",
              "1      FUNDACAO BUTANTAN   Organization/61189445000156           2021-04-29   \n",
              "2      FUNDACAO BUTANTAN   Organization/61189445000156           2021-04-16   \n",
              "3      FUNDACAO BUTANTAN   Organization/61189445000156           2021-02-19   \n",
              "4  FUNDACAO OSWALDO CRUZ   Organization/33781055000135           2021-03-29   \n",
              "\n",
              "   vacina_descricao_dose vacina_codigo                          vacina_nome  \\\n",
              "0                1ª Dose            86  Covid-19-Coronavac-Sinovac/Butantan   \n",
              "1                2ª Dose            86  Covid-19-Coronavac-Sinovac/Butantan   \n",
              "2                1ª Dose            86  Covid-19-Coronavac-Sinovac/Butantan   \n",
              "3                2ª Dose            86  Covid-19-Coronavac-Sinovac/Butantan   \n",
              "4                1ª Dose            85         Vacina Covid-19 - Covishield   \n",
              "\n",
              "   sistema_origem      data_importacao_rnds id_sistema_origem  \n",
              "0        Novo PNI  2021-03-25T03:27:19.000Z               NaN  \n",
              "1        Novo PNI  2021-04-30T16:03:14.000Z               NaN  \n",
              "2        Novo PNI  2021-04-16T15:54:39.000Z               NaN  \n",
              "3        Novo PNI  2021-03-10T14:40:54.000Z               NaN  \n",
              "4        Novo PNI  2021-04-03T19:44:28.000Z               NaN  \n",
              "\n",
              "[5 rows x 34 columns]"
            ]
          },
          "execution_count": 37,
          "metadata": {},
          "output_type": "execute_result"
        }
      ],
      "source": [
        "df.head()"
      ]
    },
    {
      "cell_type": "code",
      "execution_count": null,
      "metadata": {
        "id": "xLS69sRMtqr8",
        "outputId": "8f4b002f-ce3d-4060-b3a6-3f79f0044cf0"
      },
      "outputs": [
        {
          "data": {
            "text/plain": [
              "169071"
            ]
          },
          "execution_count": 38,
          "metadata": {},
          "output_type": "execute_result"
        }
      ],
      "source": [
        "df.shape[0]"
      ]
    },
    {
      "cell_type": "code",
      "execution_count": null,
      "metadata": {
        "id": "4D1PEwOXtqr9",
        "outputId": "70965314-2417-4903-df1e-276048389ed1"
      },
      "outputs": [
        {
          "data": {
            "text/plain": [
              "120517"
            ]
          },
          "execution_count": 39,
          "metadata": {},
          "output_type": "execute_result"
        }
      ],
      "source": [
        "# 2)\n",
        "df['paciente_id'].nunique()"
      ]
    },
    {
      "cell_type": "code",
      "execution_count": null,
      "metadata": {
        "id": "XKQEV30Ltqr-",
        "outputId": "cd564c35-b1f9-4c94-ab3f-5ce078b475c2"
      },
      "outputs": [
        {
          "data": {
            "text/plain": [
              "119713"
            ]
          },
          "execution_count": 40,
          "metadata": {},
          "output_type": "execute_result"
        }
      ],
      "source": [
        "# 3)\n",
        "primeira_dose = df['vacina_descricao_dose'].unique()[0]\n",
        "df['paciente_id'].loc[df['vacina_descricao_dose'] == primeira_dose].nunique()"
      ]
    },
    {
      "cell_type": "code",
      "execution_count": null,
      "metadata": {
        "id": "R-bB5KbZtqr_",
        "outputId": "46ed022d-bb17-4d46-b192-1526bd4de409"
      },
      "outputs": [
        {
          "data": {
            "text/plain": [
              "119713"
            ]
          },
          "execution_count": 41,
          "metadata": {},
          "output_type": "execute_result"
        }
      ],
      "source": [
        "# 3) solução alternativa\n",
        "primeira_dose = df['vacina_descricao_dose'].unique()[0]\n",
        "df_primeira_dose = df[df['vacina_descricao_dose'] == primeira_dose]\n",
        "df_primeira_dose['paciente_id'].nunique()"
      ]
    },
    {
      "cell_type": "code",
      "execution_count": null,
      "metadata": {
        "id": "q4S7Cf21tqsB",
        "outputId": "1c4a20d3-a9d6-4c13-afe4-afda821dcffa"
      },
      "outputs": [
        {
          "data": {
            "text/plain": [
              "47"
            ]
          },
          "execution_count": 42,
          "metadata": {},
          "output_type": "execute_result"
        }
      ],
      "source": [
        "# 4)\n",
        "df_menor = df[df[\"paciente_idade\"]<18]\n",
        "df_menor['paciente_id'].nunique()"
      ]
    },
    {
      "cell_type": "code",
      "execution_count": null,
      "metadata": {
        "id": "sgdyYED0tqsD",
        "outputId": "5ab2a0f6-a938-4123-8f2b-1e8d2ea73871"
      },
      "outputs": [
        {
          "data": {
            "text/plain": [
              "42"
            ]
          },
          "execution_count": 43,
          "metadata": {},
          "output_type": "execute_result"
        }
      ],
      "source": [
        "# 5)\n",
        "df['estabelecimento_razaosocial'].nunique()"
      ]
    },
    {
      "cell_type": "markdown",
      "metadata": {
        "id": "Dbgzo5IYtqsI"
      },
      "source": [
        "## 4) Vacinação II\n",
        "Gere um *DataFrame* que contenha somente os estabelecimentos que aplicaram vcinas a menores de 18 anos. Nesse *DataFrame* devem conter somente os dados dos estabelecimentos, mais uma coluna sendo a quantidade de vacinas que o estabelecimento aplicou a menores de 18 anos.\n",
        "\n",
        "1. crie uma cópia do *DataFrame* original, contendo somente os registros de vacinas realizadas a menores de 18 anos.\n",
        "2. crie uma lista das colunas desse *DataFrame* com o atributo de *DataFrame* **.columns()**\n",
        "3. Nesse *DataFrame* faça uma contagem do campo ```vacina_categoria_nome```.\n",
        "3. a partir da lista de colunas, escolha somente aquelas que são referentes ao estabelecimento, faça uma lista com esses valores.\n",
        "4. usando o método *.loc*, selecione somente essas variáveis\n",
        "5. Aplique o método **.drop_duplicates** e crie uma lista com uma linha para cada estabelecimento, com os dados do estabelecimento"
      ]
    },
    {
      "cell_type": "code",
      "execution_count": null,
      "metadata": {
        "id": "8mQZUZvatqsJ"
      },
      "outputs": [],
      "source": [
        "# 1)\n",
        "df_menor = df[df[\"paciente_idade\"]<18].copy()"
      ]
    },
    {
      "cell_type": "code",
      "execution_count": null,
      "metadata": {
        "id": "9yOksgebtqsK",
        "outputId": "7e7ea809-00db-47ab-b806-a62ce2e150f1"
      },
      "outputs": [
        {
          "data": {
            "text/plain": [
              "Index(['document_id', 'paciente_id', 'paciente_idade',\n",
              "       'paciente_datanascimento', 'paciente_enumsexobiologico',\n",
              "       'paciente_racacor_codigo', 'paciente_racacor_valor',\n",
              "       'paciente_endereco_coibgemunicipio', 'paciente_endereco_copais',\n",
              "       'paciente_endereco_nmmunicipio', 'paciente_endereco_nmpais',\n",
              "       'paciente_endereco_uf', 'paciente_endereco_cep',\n",
              "       'paciente_nacionalidade_enumnacionalidade', 'estabelecimento_valor',\n",
              "       'estabelecimento_razaosocial', 'estalecimento_nofantasia',\n",
              "       'estabelecimento_municipio_codigo', 'estabelecimento_municipio_nome',\n",
              "       'estabelecimento_uf', 'vacina_grupoatendimento_codigo',\n",
              "       'vacina_grupoatendimento_nome', 'vacina_categoria_codigo',\n",
              "       'vacina_categoria_nome', 'vacina_lote', 'vacina_fabricante_nome',\n",
              "       'vacina_fabricante_referencia', 'vacina_dataaplicacao',\n",
              "       'vacina_descricao_dose', 'vacina_codigo', 'vacina_nome',\n",
              "       'sistema_origem', 'data_importacao_rnds', 'id_sistema_origem'],\n",
              "      dtype='object')"
            ]
          },
          "execution_count": 45,
          "metadata": {},
          "output_type": "execute_result"
        }
      ],
      "source": [
        "# 2)\n",
        "df_menor.columns"
      ]
    },
    {
      "cell_type": "code",
      "execution_count": null,
      "metadata": {
        "id": "ggd4jvBWtqsM",
        "outputId": "358cdb5c-545c-4fa0-d60d-6ab6c7c7edb9"
      },
      "outputs": [
        {
          "data": {
            "text/plain": [
              "Povos Indígenas                     33\n",
              "Trabalhadores de Saúde               9\n",
              "Povos e Comunidades Tradicionais     9\n",
              "Comorbidades                         2\n",
              "Faixa Etária                         1\n",
              "Name: vacina_categoria_nome, dtype: int64"
            ]
          },
          "execution_count": 46,
          "metadata": {},
          "output_type": "execute_result"
        }
      ],
      "source": [
        "# 3)\n",
        "df_menor['vacina_categoria_nome'].value_counts()"
      ]
    },
    {
      "cell_type": "code",
      "execution_count": null,
      "metadata": {
        "id": "jrSWQQPYtqsX"
      },
      "outputs": [],
      "source": [
        "# 4) e 5)\n",
        "lista_variaveis = ['estabelecimento_valor',\n",
        "       'estabelecimento_razaosocial', 'estalecimento_nofantasia',\n",
        "       'estabelecimento_municipio_codigo', 'estabelecimento_municipio_nome',\n",
        "       'estabelecimento_uf']\n",
        "df_menor_lista = df_menor.loc[:,lista_variaveis]"
      ]
    },
    {
      "cell_type": "code",
      "execution_count": null,
      "metadata": {
        "id": "krP-NRtftqsY",
        "outputId": "1e67217e-7d2d-453b-cf68-604d49b4730f"
      },
      "outputs": [
        {
          "data": {
            "text/plain": [
              "(18, 6)"
            ]
          },
          "execution_count": 48,
          "metadata": {},
          "output_type": "execute_result"
        }
      ],
      "source": [
        "# 6)\n",
        "df_menor_lista = df_menor_lista.drop_duplicates()\n",
        "df_menor_lista.shape"
      ]
    }
  ],
  "metadata": {
    "colab": {
      "provenance": [],
      "include_colab_link": true
    },
    "kernelspec": {
      "display_name": "Python 3 (ipykernel)",
      "language": "python",
      "name": "python3"
    },
    "language_info": {
      "codemirror_mode": {
        "name": "ipython",
        "version": 3
      },
      "file_extension": ".py",
      "mimetype": "text/x-python",
      "name": "python",
      "nbconvert_exporter": "python",
      "pygments_lexer": "ipython3",
      "version": "3.9.7"
    },
    "toc": {
      "base_numbering": 1,
      "nav_menu": {},
      "number_sections": false,
      "sideBar": true,
      "skip_h1_title": true,
      "title_cell": "Índice",
      "title_sidebar": "Conteúdo",
      "toc_cell": false,
      "toc_position": {},
      "toc_section_display": true,
      "toc_window_display": false
    },
    "varInspector": {
      "cols": {
        "lenName": 16,
        "lenType": 16,
        "lenVar": 40
      },
      "kernels_config": {
        "python": {
          "delete_cmd_postfix": "",
          "delete_cmd_prefix": "del ",
          "library": "var_list.py",
          "varRefreshCmd": "print(var_dic_list())"
        },
        "r": {
          "delete_cmd_postfix": ") ",
          "delete_cmd_prefix": "rm(",
          "library": "var_list.r",
          "varRefreshCmd": "cat(var_dic_list()) "
        }
      },
      "types_to_exclude": [
        "module",
        "function",
        "builtin_function_or_method",
        "instance",
        "_Feature"
      ],
      "window_display": false
    }
  },
  "nbformat": 4,
  "nbformat_minor": 0
}