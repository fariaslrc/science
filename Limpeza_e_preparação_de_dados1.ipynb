{
  "cells": [
    {
      "cell_type": "markdown",
      "metadata": {
        "id": "view-in-github",
        "colab_type": "text"
      },
      "source": [
        "<a href=\"https://colab.research.google.com/github/fariaslrc/science/blob/main/Limpeza_e_prepara%C3%A7%C3%A3o_de_dados1.ipynb\" target=\"_parent\"><img src=\"https://colab.research.google.com/assets/colab-badge.svg\" alt=\"Open In Colab\"/></a>"
      ]
    },
    {
      "cell_type": "markdown",
      "metadata": {
        "id": "qapOKOlPeGZc"
      },
      "source": [
        "# Módulo 5 Tarefa 1\n",
        "## Base de nascidos vivos do DataSUS\n",
        "O DataSUS disponibiliza diversos arquivos de dados com relação a seus segurados, conforme a [lei da transparência de informações públicas](https://www.sisgov.com/transparencia-acesso-informacao/#:~:text=A%20Lei%20da%20Transpar%C3%AAncia%20(LC,em%20um%20site%20na%20internet.).\n",
        "\n",
        "Essas informações podem ser obtidas pela internet [aqui](http://www2.datasus.gov.br/DATASUS/index.php?area=0901&item=1). Como o processo de obtenção desses arquivos foge um pouco do nosso escopo, deixamos o arquivo ```SINASC_RO_2019.csv``` já como vai ser encontrado no DataSUS. O dicionário de dados está no arquivo ```estrutura_sinasc_para_CD.pdf``` (o nome do arquivo tal qual no portal do DataSUS).\n",
        "\n",
        "### Nosso objetivo\n",
        "Queremos deixar uma base organizada para podermos estudar a relação entre partos com risco para o bebê e algumas condições como tempo de parto, consultas de pré-natal etc.\n",
        "\n",
        "#### Preparação da base\n",
        "1. Carregue a base 'SINASC_RO_2019.csv'. Conte o número de registros e o número de registros não duplicados da base. Dica: você aprendeu um método que remove duplicados, encadeie este método com um outro método que conta o número de linhas. **Há linhas duplicadas?**  \n",
        "\n",
        "2. Conte o número de valores *missing* por variável.  \n",
        "\n",
        "3. Ok, no item anterior você deve ter achado pouco prático ler a informação de tantas variáveis, muitas delas nem devem ser interesantes. Então crie uma seleção dessa base somente com as colunas que interessam. São elas:\n",
        "```\n",
        "['LOCNASC', 'IDADEMAE', 'ESTCIVMAE', 'ESCMAE', 'QTDFILVIVO',\n",
        "    'GESTACAO', 'GRAVIDEZ', 'CONSULTAS', 'APGAR5']\n",
        "```\n",
        "Refaça a contagem de valores *missings*.  \n",
        "\n",
        "4. Apgar é uma *nota* que o pediatra dá ao bebê quando nasce de acordo com algumas características associadas principalmente à respiração. Apgar 1 e Apgar 5 são as notas 1 e 5 minutos do nascimento. Apgar5 será a nossa variável de interesse principal. Então remova todos os registros com Apgar5 não preenchido. Para esta seleção, conte novamente o número de linhas e o número de *missings*.  \n",
        "\n",
        "5. observe que as variáveis ```['ESTCIVMAE', 'CONSULTAS']``` possuem o código ```9```, que significa *ignorado*. Vamos assumir que o não preenchido é o mesmo que o código ```9```.<br>\n",
        "6. Substitua os valores faltantes da quantitativa (```QTDFILVIVO```) por zero.  \n",
        "7. Das restantes, decida que valore te parece mais adequado (um 'não preenchido' ou um valor 'mais provável' como no item anterior) e preencha. Justifique. Lembre-se de que tratamento de dados é trabalho do cientista, e que estamos tomando decisões a todo o momento - não há necessariamente certo e errado aqui.  \n",
        "8. O Apgar possui uma classificação indicando se o bebê passou por asfixia:\n",
        "- Entre 8 e 10 está em uma faixa 'normal'.\n",
        "- Entre 6 e 7, significa que o recém-nascido passou por 'asfixia leve'.\n",
        "- Entre 4 e 5 significa 'asfixia moderada'.\n",
        "- Entre 0 e 3 significa 'asfixia severa'.  \n",
        "\n",
        "Crie uma categorização dessa variável com essa codificação e calcule as frequências dessa categorização.  \n",
        "<br>\n",
        "9. Renomeie as variáveis para que fiquem no *snake case*, ou seja, em letras minúsculas, com um *underscore* entre as palávras. Dica: repare que se você não quiser criar um *dataframe* novo, você vai precisar usar a opção ```inplace = True```."
      ]
    },
    {
      "cell_type": "code",
      "source": [
        "from google.colab import drive\n",
        "\n",
        "drive.mount('/content/drive')"
      ],
      "metadata": {
        "colab": {
          "base_uri": "https://localhost:8080/"
        },
        "id": "GA8KGjBnky96",
        "outputId": "5797175a-7d96-48fd-ca31-b3bbdd6682f1"
      },
      "execution_count": 80,
      "outputs": [
        {
          "output_type": "stream",
          "name": "stdout",
          "text": [
            "Drive already mounted at /content/drive; to attempt to forcibly remount, call drive.mount(\"/content/drive\", force_remount=True).\n"
          ]
        }
      ]
    },
    {
      "cell_type": "code",
      "execution_count": 81,
      "metadata": {
        "colab": {
          "base_uri": "https://localhost:8080/"
        },
        "id": "nzOanlmZeGZg",
        "outputId": "48c5af4e-8b17-420f-f5b5-7a7d79b0f7be"
      },
      "outputs": [
        {
          "output_type": "stream",
          "name": "stdout",
          "text": [
            "Número de registros: 27028\n",
            "Número de registros não duplicados: 27028\n",
            "Há linhas duplicadas? False\n"
          ]
        }
      ],
      "source": [
        "import pandas as pd\n",
        "import requests\n",
        "\n",
        "# 1) Carregue a base 'SINASC_RO_2019.csv'. Conte o número de registros e o número\n",
        "# de registros não duplicados da base. Há linhas duplicadas?\n",
        "\n",
        "# Carregar a base de dados\n",
        "# sinasc = pd.read_csv('SINASC_RO_2019.csv')\n",
        "sinasc = pd.read_csv('/content/drive/MyDrive/Profissão Cientista de Dados/Cientista de Dados/Módulo 5 - Limpeza e preparação de dados/Tarefa1/SINASC_RO_2019.csv')\n",
        "\n",
        "# Contar o número de registros\n",
        "total_registros = sinasc.shape[0]\n",
        "\n",
        "# Contar o número de registros não duplicados\n",
        "registros_nao_duplicados = sinasc.drop_duplicates().shape[0]\n",
        "\n",
        "# Verificar se há linhas duplicadas\n",
        "ha_duplicatas = total_registros != registros_nao_duplicados\n",
        "\n",
        "# Exibir os resultados\n",
        "print(\"Número de registros:\", total_registros)\n",
        "print(\"Número de registros não duplicados:\", registros_nao_duplicados)\n",
        "print(\"Há linhas duplicadas?\", ha_duplicatas)"
      ]
    },
    {
      "cell_type": "code",
      "execution_count": 82,
      "metadata": {
        "id": "xtwfKpM-eGZh",
        "colab": {
          "base_uri": "https://localhost:8080/"
        },
        "outputId": "060141fe-5fb1-4618-b08c-0fc163dae792"
      },
      "outputs": [
        {
          "output_type": "stream",
          "name": "stdout",
          "text": [
            "ORIGEM          0\n",
            "CODESTAB      115\n",
            "CODMUNNASC      0\n",
            "LOCNASC         0\n",
            "IDADEMAE        0\n",
            "             ... \n",
            "munResUf        0\n",
            "munResLat       1\n",
            "munResLon       1\n",
            "munResAlt       1\n",
            "munResArea      1\n",
            "Length: 69, dtype: int64\n"
          ]
        }
      ],
      "source": [
        "# 2) Conte o número de valores missing por variável.\n",
        "# Contar o número de valores missing por variável\n",
        "valores_ausentes_por_variavel = sinasc.isnull().sum()\n",
        "\n",
        "# Exibir os resultados\n",
        "print(valores_ausentes_por_variavel)"
      ]
    },
    {
      "cell_type": "code",
      "execution_count": 83,
      "metadata": {
        "id": "wb9qo1D4eGZh",
        "colab": {
          "base_uri": "https://localhost:8080/"
        },
        "outputId": "85322d9d-93f5-48d5-edd2-796a2472c904"
      },
      "outputs": [
        {
          "output_type": "stream",
          "name": "stdout",
          "text": [
            "LOCNASC          0\n",
            "IDADEMAE         0\n",
            "ESTCIVMAE      317\n",
            "ESCMAE         312\n",
            "QTDFILVIVO    1573\n",
            "GESTACAO      1232\n",
            "GRAVIDEZ        79\n",
            "CONSULTAS        0\n",
            "APGAR5         103\n",
            "dtype: int64\n"
          ]
        }
      ],
      "source": [
        "# 3) crie uma seleção dessa base somente com as colunas que interessam\n",
        "# e refaça a contagem de valores missing\n",
        "\n",
        "# Criar uma seleção com as colunas desejadas\n",
        "target_df = sinasc.loc[:, ['LOCNASC', 'IDADEMAE', 'ESTCIVMAE', 'ESCMAE', 'QTDFILVIVO', 'GESTACAO', 'GRAVIDEZ', 'CONSULTAS', 'APGAR5']]\n",
        "\n",
        "# Exibir a seleção\n",
        "#print(target_df)\n",
        "\n",
        "# Contar o número de valores missing por variável\n",
        "valores_ausentes_por_variavel = target_df.isnull().sum()\n",
        "\n",
        "# Exibir os resultados\n",
        "print(valores_ausentes_por_variavel)\n"
      ]
    },
    {
      "cell_type": "code",
      "execution_count": 84,
      "metadata": {
        "id": "3rF6hab5eGZh",
        "colab": {
          "base_uri": "https://localhost:8080/"
        },
        "outputId": "7951648a-fb9e-4277-a70e-04b858a09959"
      },
      "outputs": [
        {
          "output_type": "stream",
          "name": "stdout",
          "text": [
            "Número de linhas após a remoção de registros com APGAR5 não preenchido: 26925\n",
            "Número de valores ausentes após a remoção:\n",
            "LOCNASC          0\n",
            "IDADEMAE         0\n",
            "ESTCIVMAE      315\n",
            "ESCMAE         310\n",
            "QTDFILVIVO    1566\n",
            "GESTACAO      1216\n",
            "GRAVIDEZ        76\n",
            "CONSULTAS        0\n",
            "APGAR5           0\n",
            "dtype: int64\n"
          ]
        }
      ],
      "source": [
        "# 4) remova todos os registros com Apgar5 não preenchido.\n",
        "# Para esta seleção, conte novamente o número de linhas e o número de missings.\n",
        "\n",
        "# Remover registros com APGAR5 não preenchido\n",
        "target_df = target_df.dropna(subset=['APGAR5'])\n",
        "\n",
        "# Contar o número de linhas\n",
        "total_linhas = len(target_df)\n",
        "# Contar o número de valores ausentes por variável\n",
        "valores_ausentes_por_variavel = target_df.isnull().sum()\n",
        "\n",
        "# Exibir os resultados\n",
        "print(\"Número de linhas após a remoção de registros com APGAR5 não preenchido:\", total_linhas)\n",
        "print(\"Número de valores ausentes após a remoção:\")\n",
        "print(valores_ausentes_por_variavel)"
      ]
    },
    {
      "cell_type": "code",
      "execution_count": 85,
      "metadata": {
        "id": "UunfX29reGZh",
        "colab": {
          "base_uri": "https://localhost:8080/"
        },
        "outputId": "8a316cb6-c848-47a4-b79b-57b8ada7dfba"
      },
      "outputs": [
        {
          "output_type": "stream",
          "name": "stdout",
          "text": [
            "Número de valores ausentes por variável:\n",
            "LOCNASC          0\n",
            "IDADEMAE         0\n",
            "ESTCIVMAE      459\n",
            "ESCMAE         310\n",
            "QTDFILVIVO    1566\n",
            "GESTACAO      1216\n",
            "GRAVIDEZ        76\n",
            "CONSULTAS       50\n",
            "APGAR5           0\n",
            "dtype: int64\n"
          ]
        }
      ],
      "source": [
        "# 5) observe que as variáveis ['ESTCIVMAE', 'CONSULTAS'] possuem o código 9, que significa ignorado.\n",
        "# Vamos assumir que o não preenchido é o mesmo que o código 9.\n",
        "\n",
        "# Substituir os valores faltantes (código 9) por NaN\n",
        "target_df['ESTCIVMAE'].replace(9, float('nan'), inplace=True)\n",
        "target_df['CONSULTAS'].replace(9, float('nan'), inplace=True)\n",
        "\n",
        "# Contar o número de valores ausentes por variável\n",
        "valores_ausentes_por_variavel = target_df.isnull().sum()\n",
        "\n",
        "# Exibir os resultados\n",
        "print(\"Número de valores ausentes por variável:\")\n",
        "print(valores_ausentes_por_variavel)\n",
        "\n"
      ]
    },
    {
      "cell_type": "code",
      "execution_count": 86,
      "metadata": {
        "id": "aaOPnsYxeGZi",
        "colab": {
          "base_uri": "https://localhost:8080/"
        },
        "outputId": "33ae16fb-d36b-46db-932b-4b6a69e8afb1"
      },
      "outputs": [
        {
          "output_type": "stream",
          "name": "stdout",
          "text": [
            "Número de valores ausentes por variável:\n",
            "LOCNASC          0\n",
            "IDADEMAE         0\n",
            "ESTCIVMAE      459\n",
            "ESCMAE         310\n",
            "QTDFILVIVO       0\n",
            "GESTACAO      1216\n",
            "GRAVIDEZ        76\n",
            "CONSULTAS       50\n",
            "APGAR5           0\n",
            "dtype: int64\n"
          ]
        }
      ],
      "source": [
        "# 6) Substitua os valores faltantes da quantitativa (QTDFILVIVO) por zero.\n",
        "target_df['QTDFILVIVO'].fillna(0, inplace=True)\n",
        "\n",
        "# Contar o número de valores ausentes por variável\n",
        "valores_ausentes_por_variavel = target_df.isnull().sum()\n",
        "\n",
        "# Exibir os resultados\n",
        "print(\"Número de valores ausentes por variável:\")\n",
        "print(valores_ausentes_por_variavel)"
      ]
    },
    {
      "cell_type": "code",
      "execution_count": 87,
      "metadata": {
        "id": "RPpjZ0q_eGZi",
        "colab": {
          "base_uri": "https://localhost:8080/"
        },
        "outputId": "5da74384-e097-4ff9-f7cb-544f646128ac"
      },
      "outputs": [
        {
          "output_type": "execute_result",
          "data": {
            "text/plain": [
              "LOCNASC         int64\n",
              "IDADEMAE        int64\n",
              "ESTCIVMAE     float64\n",
              "ESCMAE         object\n",
              "QTDFILVIVO    float64\n",
              "GESTACAO       object\n",
              "GRAVIDEZ       object\n",
              "CONSULTAS     float64\n",
              "APGAR5        float64\n",
              "dtype: object"
            ]
          },
          "metadata": {},
          "execution_count": 87
        }
      ],
      "source": [
        "# 7) decida que valore te parece mais adequado e preencha\n",
        "\n",
        "# identificando dados categóricos e numéricos\n",
        "target_df.dtypes"
      ]
    },
    {
      "cell_type": "code",
      "source": [
        "# Dados categóricos:\n",
        "target_df.select_dtypes('object').describe().transpose()"
      ],
      "metadata": {
        "colab": {
          "base_uri": "https://localhost:8080/",
          "height": 143
        },
        "id": "XqWHRi7mkoA-",
        "outputId": "070d3785-bfc6-4ffc-ee5a-b89be43b4b03"
      },
      "execution_count": 88,
      "outputs": [
        {
          "output_type": "execute_result",
          "data": {
            "text/plain": [
              "          count unique              top   freq\n",
              "ESCMAE    26615      5      8 a 11 anos  15581\n",
              "GESTACAO  25709      6  37 a 41 semanas  22523\n",
              "GRAVIDEZ  26849      3            Única  26356"
            ],
            "text/html": [
              "\n",
              "  <div id=\"df-cc274952-4ff8-4f00-b5f7-c8ae87f6cdee\">\n",
              "    <div class=\"colab-df-container\">\n",
              "      <div>\n",
              "<style scoped>\n",
              "    .dataframe tbody tr th:only-of-type {\n",
              "        vertical-align: middle;\n",
              "    }\n",
              "\n",
              "    .dataframe tbody tr th {\n",
              "        vertical-align: top;\n",
              "    }\n",
              "\n",
              "    .dataframe thead th {\n",
              "        text-align: right;\n",
              "    }\n",
              "</style>\n",
              "<table border=\"1\" class=\"dataframe\">\n",
              "  <thead>\n",
              "    <tr style=\"text-align: right;\">\n",
              "      <th></th>\n",
              "      <th>count</th>\n",
              "      <th>unique</th>\n",
              "      <th>top</th>\n",
              "      <th>freq</th>\n",
              "    </tr>\n",
              "  </thead>\n",
              "  <tbody>\n",
              "    <tr>\n",
              "      <th>ESCMAE</th>\n",
              "      <td>26615</td>\n",
              "      <td>5</td>\n",
              "      <td>8 a 11 anos</td>\n",
              "      <td>15581</td>\n",
              "    </tr>\n",
              "    <tr>\n",
              "      <th>GESTACAO</th>\n",
              "      <td>25709</td>\n",
              "      <td>6</td>\n",
              "      <td>37 a 41 semanas</td>\n",
              "      <td>22523</td>\n",
              "    </tr>\n",
              "    <tr>\n",
              "      <th>GRAVIDEZ</th>\n",
              "      <td>26849</td>\n",
              "      <td>3</td>\n",
              "      <td>Única</td>\n",
              "      <td>26356</td>\n",
              "    </tr>\n",
              "  </tbody>\n",
              "</table>\n",
              "</div>\n",
              "      <button class=\"colab-df-convert\" onclick=\"convertToInteractive('df-cc274952-4ff8-4f00-b5f7-c8ae87f6cdee')\"\n",
              "              title=\"Convert this dataframe to an interactive table.\"\n",
              "              style=\"display:none;\">\n",
              "        \n",
              "  <svg xmlns=\"http://www.w3.org/2000/svg\" height=\"24px\"viewBox=\"0 0 24 24\"\n",
              "       width=\"24px\">\n",
              "    <path d=\"M0 0h24v24H0V0z\" fill=\"none\"/>\n",
              "    <path d=\"M18.56 5.44l.94 2.06.94-2.06 2.06-.94-2.06-.94-.94-2.06-.94 2.06-2.06.94zm-11 1L8.5 8.5l.94-2.06 2.06-.94-2.06-.94L8.5 2.5l-.94 2.06-2.06.94zm10 10l.94 2.06.94-2.06 2.06-.94-2.06-.94-.94-2.06-.94 2.06-2.06.94z\"/><path d=\"M17.41 7.96l-1.37-1.37c-.4-.4-.92-.59-1.43-.59-.52 0-1.04.2-1.43.59L10.3 9.45l-7.72 7.72c-.78.78-.78 2.05 0 2.83L4 21.41c.39.39.9.59 1.41.59.51 0 1.02-.2 1.41-.59l7.78-7.78 2.81-2.81c.8-.78.8-2.07 0-2.86zM5.41 20L4 18.59l7.72-7.72 1.47 1.35L5.41 20z\"/>\n",
              "  </svg>\n",
              "      </button>\n",
              "      \n",
              "  <style>\n",
              "    .colab-df-container {\n",
              "      display:flex;\n",
              "      flex-wrap:wrap;\n",
              "      gap: 12px;\n",
              "    }\n",
              "\n",
              "    .colab-df-convert {\n",
              "      background-color: #E8F0FE;\n",
              "      border: none;\n",
              "      border-radius: 50%;\n",
              "      cursor: pointer;\n",
              "      display: none;\n",
              "      fill: #1967D2;\n",
              "      height: 32px;\n",
              "      padding: 0 0 0 0;\n",
              "      width: 32px;\n",
              "    }\n",
              "\n",
              "    .colab-df-convert:hover {\n",
              "      background-color: #E2EBFA;\n",
              "      box-shadow: 0px 1px 2px rgba(60, 64, 67, 0.3), 0px 1px 3px 1px rgba(60, 64, 67, 0.15);\n",
              "      fill: #174EA6;\n",
              "    }\n",
              "\n",
              "    [theme=dark] .colab-df-convert {\n",
              "      background-color: #3B4455;\n",
              "      fill: #D2E3FC;\n",
              "    }\n",
              "\n",
              "    [theme=dark] .colab-df-convert:hover {\n",
              "      background-color: #434B5C;\n",
              "      box-shadow: 0px 1px 3px 1px rgba(0, 0, 0, 0.15);\n",
              "      filter: drop-shadow(0px 1px 2px rgba(0, 0, 0, 0.3));\n",
              "      fill: #FFFFFF;\n",
              "    }\n",
              "  </style>\n",
              "\n",
              "      <script>\n",
              "        const buttonEl =\n",
              "          document.querySelector('#df-cc274952-4ff8-4f00-b5f7-c8ae87f6cdee button.colab-df-convert');\n",
              "        buttonEl.style.display =\n",
              "          google.colab.kernel.accessAllowed ? 'block' : 'none';\n",
              "\n",
              "        async function convertToInteractive(key) {\n",
              "          const element = document.querySelector('#df-cc274952-4ff8-4f00-b5f7-c8ae87f6cdee');\n",
              "          const dataTable =\n",
              "            await google.colab.kernel.invokeFunction('convertToInteractive',\n",
              "                                                     [key], {});\n",
              "          if (!dataTable) return;\n",
              "\n",
              "          const docLinkHtml = 'Like what you see? Visit the ' +\n",
              "            '<a target=\"_blank\" href=https://colab.research.google.com/notebooks/data_table.ipynb>data table notebook</a>'\n",
              "            + ' to learn more about interactive tables.';\n",
              "          element.innerHTML = '';\n",
              "          dataTable['output_type'] = 'display_data';\n",
              "          await google.colab.output.renderOutput(dataTable, element);\n",
              "          const docLink = document.createElement('div');\n",
              "          docLink.innerHTML = docLinkHtml;\n",
              "          element.appendChild(docLink);\n",
              "        }\n",
              "      </script>\n",
              "    </div>\n",
              "  </div>\n",
              "  "
            ]
          },
          "metadata": {},
          "execution_count": 88
        }
      ]
    },
    {
      "cell_type": "code",
      "source": [
        "# Faz sentido substituir os valores faltantes pela moda\n",
        "# ffill ou bfill não são aplicáveis por serem dados independentes um do outro\n",
        "moda = target_df['ESCMAE'].value_counts().idxmax()\n",
        "target_df['ESCMAE'].fillna(moda, inplace=True)\n",
        "moda = target_df['GESTACAO'].value_counts().idxmax()\n",
        "target_df['GESTACAO'].fillna(moda, inplace=True)\n",
        "moda = target_df['GRAVIDEZ'].value_counts().idxmax()\n",
        "target_df['GRAVIDEZ'].fillna(moda, inplace=True)\n",
        "\n",
        "# Contar o número de valores ausentes por variável\n",
        "valores_ausentes_por_variavel = target_df.isnull().sum()\n",
        "\n",
        "# Exibir os resultados\n",
        "print(\"Número de valores ausentes por variável:\")\n",
        "print(valores_ausentes_por_variavel)"
      ],
      "metadata": {
        "colab": {
          "base_uri": "https://localhost:8080/"
        },
        "id": "kbAFW9TBnCbG",
        "outputId": "74ab34ce-9448-4c1b-9a19-5e66b7202eba"
      },
      "execution_count": 89,
      "outputs": [
        {
          "output_type": "stream",
          "name": "stdout",
          "text": [
            "Número de valores ausentes por variável:\n",
            "LOCNASC         0\n",
            "IDADEMAE        0\n",
            "ESTCIVMAE     459\n",
            "ESCMAE          0\n",
            "QTDFILVIVO      0\n",
            "GESTACAO        0\n",
            "GRAVIDEZ        0\n",
            "CONSULTAS      50\n",
            "APGAR5          0\n",
            "dtype: int64\n"
          ]
        }
      ]
    },
    {
      "cell_type": "code",
      "source": [
        "# Dados numéricos:\n",
        "target_df.drop(['LOCNASC','IDADEMAE','QTDFILVIVO','APGAR5'], axis=1).select_dtypes('number').describe().transpose()"
      ],
      "metadata": {
        "colab": {
          "base_uri": "https://localhost:8080/",
          "height": 112
        },
        "id": "mMSf8SoukoKP",
        "outputId": "34a286a3-47db-4bb8-b27f-9671237fad38"
      },
      "execution_count": 90,
      "outputs": [
        {
          "output_type": "execute_result",
          "data": {
            "text/plain": [
              "             count      mean       std  min  25%  50%  75%  max\n",
              "ESTCIVMAE  26466.0  2.509597  1.605301  1.0  1.0  2.0  5.0  5.0\n",
              "CONSULTAS  26875.0  3.568707  0.750626  1.0  3.0  4.0  4.0  4.0"
            ],
            "text/html": [
              "\n",
              "  <div id=\"df-b02b6885-2c72-44ab-addc-8f4a2621f684\">\n",
              "    <div class=\"colab-df-container\">\n",
              "      <div>\n",
              "<style scoped>\n",
              "    .dataframe tbody tr th:only-of-type {\n",
              "        vertical-align: middle;\n",
              "    }\n",
              "\n",
              "    .dataframe tbody tr th {\n",
              "        vertical-align: top;\n",
              "    }\n",
              "\n",
              "    .dataframe thead th {\n",
              "        text-align: right;\n",
              "    }\n",
              "</style>\n",
              "<table border=\"1\" class=\"dataframe\">\n",
              "  <thead>\n",
              "    <tr style=\"text-align: right;\">\n",
              "      <th></th>\n",
              "      <th>count</th>\n",
              "      <th>mean</th>\n",
              "      <th>std</th>\n",
              "      <th>min</th>\n",
              "      <th>25%</th>\n",
              "      <th>50%</th>\n",
              "      <th>75%</th>\n",
              "      <th>max</th>\n",
              "    </tr>\n",
              "  </thead>\n",
              "  <tbody>\n",
              "    <tr>\n",
              "      <th>ESTCIVMAE</th>\n",
              "      <td>26466.0</td>\n",
              "      <td>2.509597</td>\n",
              "      <td>1.605301</td>\n",
              "      <td>1.0</td>\n",
              "      <td>1.0</td>\n",
              "      <td>2.0</td>\n",
              "      <td>5.0</td>\n",
              "      <td>5.0</td>\n",
              "    </tr>\n",
              "    <tr>\n",
              "      <th>CONSULTAS</th>\n",
              "      <td>26875.0</td>\n",
              "      <td>3.568707</td>\n",
              "      <td>0.750626</td>\n",
              "      <td>1.0</td>\n",
              "      <td>3.0</td>\n",
              "      <td>4.0</td>\n",
              "      <td>4.0</td>\n",
              "      <td>4.0</td>\n",
              "    </tr>\n",
              "  </tbody>\n",
              "</table>\n",
              "</div>\n",
              "      <button class=\"colab-df-convert\" onclick=\"convertToInteractive('df-b02b6885-2c72-44ab-addc-8f4a2621f684')\"\n",
              "              title=\"Convert this dataframe to an interactive table.\"\n",
              "              style=\"display:none;\">\n",
              "        \n",
              "  <svg xmlns=\"http://www.w3.org/2000/svg\" height=\"24px\"viewBox=\"0 0 24 24\"\n",
              "       width=\"24px\">\n",
              "    <path d=\"M0 0h24v24H0V0z\" fill=\"none\"/>\n",
              "    <path d=\"M18.56 5.44l.94 2.06.94-2.06 2.06-.94-2.06-.94-.94-2.06-.94 2.06-2.06.94zm-11 1L8.5 8.5l.94-2.06 2.06-.94-2.06-.94L8.5 2.5l-.94 2.06-2.06.94zm10 10l.94 2.06.94-2.06 2.06-.94-2.06-.94-.94-2.06-.94 2.06-2.06.94z\"/><path d=\"M17.41 7.96l-1.37-1.37c-.4-.4-.92-.59-1.43-.59-.52 0-1.04.2-1.43.59L10.3 9.45l-7.72 7.72c-.78.78-.78 2.05 0 2.83L4 21.41c.39.39.9.59 1.41.59.51 0 1.02-.2 1.41-.59l7.78-7.78 2.81-2.81c.8-.78.8-2.07 0-2.86zM5.41 20L4 18.59l7.72-7.72 1.47 1.35L5.41 20z\"/>\n",
              "  </svg>\n",
              "      </button>\n",
              "      \n",
              "  <style>\n",
              "    .colab-df-container {\n",
              "      display:flex;\n",
              "      flex-wrap:wrap;\n",
              "      gap: 12px;\n",
              "    }\n",
              "\n",
              "    .colab-df-convert {\n",
              "      background-color: #E8F0FE;\n",
              "      border: none;\n",
              "      border-radius: 50%;\n",
              "      cursor: pointer;\n",
              "      display: none;\n",
              "      fill: #1967D2;\n",
              "      height: 32px;\n",
              "      padding: 0 0 0 0;\n",
              "      width: 32px;\n",
              "    }\n",
              "\n",
              "    .colab-df-convert:hover {\n",
              "      background-color: #E2EBFA;\n",
              "      box-shadow: 0px 1px 2px rgba(60, 64, 67, 0.3), 0px 1px 3px 1px rgba(60, 64, 67, 0.15);\n",
              "      fill: #174EA6;\n",
              "    }\n",
              "\n",
              "    [theme=dark] .colab-df-convert {\n",
              "      background-color: #3B4455;\n",
              "      fill: #D2E3FC;\n",
              "    }\n",
              "\n",
              "    [theme=dark] .colab-df-convert:hover {\n",
              "      background-color: #434B5C;\n",
              "      box-shadow: 0px 1px 3px 1px rgba(0, 0, 0, 0.15);\n",
              "      filter: drop-shadow(0px 1px 2px rgba(0, 0, 0, 0.3));\n",
              "      fill: #FFFFFF;\n",
              "    }\n",
              "  </style>\n",
              "\n",
              "      <script>\n",
              "        const buttonEl =\n",
              "          document.querySelector('#df-b02b6885-2c72-44ab-addc-8f4a2621f684 button.colab-df-convert');\n",
              "        buttonEl.style.display =\n",
              "          google.colab.kernel.accessAllowed ? 'block' : 'none';\n",
              "\n",
              "        async function convertToInteractive(key) {\n",
              "          const element = document.querySelector('#df-b02b6885-2c72-44ab-addc-8f4a2621f684');\n",
              "          const dataTable =\n",
              "            await google.colab.kernel.invokeFunction('convertToInteractive',\n",
              "                                                     [key], {});\n",
              "          if (!dataTable) return;\n",
              "\n",
              "          const docLinkHtml = 'Like what you see? Visit the ' +\n",
              "            '<a target=\"_blank\" href=https://colab.research.google.com/notebooks/data_table.ipynb>data table notebook</a>'\n",
              "            + ' to learn more about interactive tables.';\n",
              "          element.innerHTML = '';\n",
              "          dataTable['output_type'] = 'display_data';\n",
              "          await google.colab.output.renderOutput(dataTable, element);\n",
              "          const docLink = document.createElement('div');\n",
              "          docLink.innerHTML = docLinkHtml;\n",
              "          element.appendChild(docLink);\n",
              "        }\n",
              "      </script>\n",
              "    </div>\n",
              "  </div>\n",
              "  "
            ]
          },
          "metadata": {},
          "execution_count": 90
        }
      ]
    },
    {
      "cell_type": "code",
      "source": [
        "# Faz sentido substituir os valores faltantes pela média\n",
        "media = target_df['ESTCIVMAE'].mean()\n",
        "target_df['ESTCIVMAE'].fillna(media, inplace=True)\n",
        "media = target_df['CONSULTAS'].mean()\n",
        "target_df['CONSULTAS'].fillna(media, inplace=True)\n",
        "\n",
        "# Contar o número de valores ausentes por variável\n",
        "valores_ausentes_por_variavel = target_df.isnull().sum()\n",
        "\n",
        "# Exibir os resultados\n",
        "print(\"Número de valores ausentes por variável:\")\n",
        "print(valores_ausentes_por_variavel)"
      ],
      "metadata": {
        "colab": {
          "base_uri": "https://localhost:8080/"
        },
        "id": "n6atNH5loTF9",
        "outputId": "2b9d75d6-8e07-4c25-e6a3-21748ebf3b2d"
      },
      "execution_count": 91,
      "outputs": [
        {
          "output_type": "stream",
          "name": "stdout",
          "text": [
            "Número de valores ausentes por variável:\n",
            "LOCNASC       0\n",
            "IDADEMAE      0\n",
            "ESTCIVMAE     0\n",
            "ESCMAE        0\n",
            "QTDFILVIVO    0\n",
            "GESTACAO      0\n",
            "GRAVIDEZ      0\n",
            "CONSULTAS     0\n",
            "APGAR5        0\n",
            "dtype: int64\n"
          ]
        }
      ]
    },
    {
      "cell_type": "code",
      "execution_count": 92,
      "metadata": {
        "id": "eabnP9hyeGZi",
        "colab": {
          "base_uri": "https://localhost:8080/"
        },
        "outputId": "0d9edf50-a75d-4a1b-b7a4-01cac9d5147c"
      },
      "outputs": [
        {
          "output_type": "stream",
          "name": "stdout",
          "text": [
            "normal              26463\n",
            "asfixia leve          320\n",
            "asfixia severa         74\n",
            "asfixia moderada       68\n",
            "Name: APGAR_CATEGORIZADO, dtype: int64\n"
          ]
        }
      ],
      "source": [
        "# 8) Crie uma categorização da variável APGAR e calcule as frequências dessa categorização\n",
        "\n",
        "# Criar a categorização com base nas faixas de classificação de asfixia\n",
        "target_df.loc[target_df['APGAR5'] <= 3, 'APGAR_CATEGORIZADO'] = 'asfixia severa'\n",
        "target_df.loc[target_df['APGAR5'] > 3, 'APGAR_CATEGORIZADO'] = 'asfixia moderada'\n",
        "target_df.loc[target_df['APGAR5'] > 5, 'APGAR_CATEGORIZADO'] = 'asfixia leve'\n",
        "target_df.loc[target_df['APGAR5'] > 7, 'APGAR_CATEGORIZADO'] = 'normal'\n",
        "\n",
        "# Calcular as frequências da categorização\n",
        "frequencias = target_df['APGAR_CATEGORIZADO'].value_counts()\n",
        "\n",
        "print(frequencias)"
      ]
    },
    {
      "cell_type": "code",
      "execution_count": 98,
      "metadata": {
        "id": "RIkGXZboeGZi",
        "colab": {
          "base_uri": "https://localhost:8080/"
        },
        "outputId": "8673d662-c9c2-4edc-b0d5-2ef8735fe161"
      },
      "outputs": [
        {
          "output_type": "execute_result",
          "data": {
            "text/plain": [
              "Index(['loc_nasc', 'idade_mae', 'est_civ_mae', 'esc_mae', 'qtd_fil_vivo',\n",
              "       'gestacao', 'gravidez', 'consultas', 'apgar5', 'apgar_categorizado'],\n",
              "      dtype='object')"
            ]
          },
          "metadata": {},
          "execution_count": 98
        }
      ],
      "source": [
        "# 9) Renomeie as variáveis para que fiquem no snake case\n",
        "\n",
        "# Renomear as variáveis para snake case\n",
        "target_df.rename(columns={'LOCNASC': 'loc_nasc', 'IDADEMAE': 'idade_mae', 'ESTCIVMAE': 'est_civ_mae',\n",
        "                     'ESCMAE': 'esc_mae', 'QTDFILVIVO': 'qtd_fil_vivo', 'GESTACAO': 'gestacao',\n",
        "                     'GRAVIDEZ': 'gravidez', 'CONSULTAS': 'consultas', 'APGAR5': 'apgar5', 'APGAR_CATEGORIZADO': 'apgar_categorizado'},\n",
        "            inplace=True)\n",
        "\n",
        "target_df.columns"
      ]
    }
  ],
  "metadata": {
    "kernelspec": {
      "display_name": "Python 3",
      "language": "python",
      "name": "python3"
    },
    "language_info": {
      "codemirror_mode": {
        "name": "ipython",
        "version": 3
      },
      "file_extension": ".py",
      "mimetype": "text/x-python",
      "name": "python",
      "nbconvert_exporter": "python",
      "pygments_lexer": "ipython3",
      "version": "3.8.5"
    },
    "colab": {
      "provenance": [],
      "include_colab_link": true
    }
  },
  "nbformat": 4,
  "nbformat_minor": 0
}